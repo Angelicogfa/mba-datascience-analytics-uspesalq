{
 "cells": [
  {
   "cell_type": "code",
   "execution_count": 1,
   "metadata": {},
   "outputs": [],
   "source": [
    "import numpy as np\n",
    "import pandas as pd\n",
    "import seaborn as sns\n",
    "from scipy import stats\n",
    "import matplotlib.pyplot as plt"
   ]
  },
  {
   "cell_type": "code",
   "execution_count": 2,
   "metadata": {},
   "outputs": [],
   "source": [
    "sns.set_theme(style=\"darkgrid\")"
   ]
  },
  {
   "cell_type": "markdown",
   "metadata": {},
   "source": [
    "### Criação de analise de frequência"
   ]
  },
  {
   "cell_type": "code",
   "execution_count": 3,
   "metadata": {},
   "outputs": [],
   "source": [
    "file_name = './dataset/tabela_frequencia.csv'"
   ]
  },
  {
   "cell_type": "code",
   "execution_count": 4,
   "metadata": {},
   "outputs": [
    {
     "data": {
      "text/html": [
       "<div>\n",
       "<style scoped>\n",
       "    .dataframe tbody tr th:only-of-type {\n",
       "        vertical-align: middle;\n",
       "    }\n",
       "\n",
       "    .dataframe tbody tr th {\n",
       "        vertical-align: top;\n",
       "    }\n",
       "\n",
       "    .dataframe thead th {\n",
       "        text-align: right;\n",
       "    }\n",
       "</style>\n",
       "<table border=\"1\" class=\"dataframe\">\n",
       "  <thead>\n",
       "    <tr style=\"text-align: right;\">\n",
       "      <th></th>\n",
       "      <th>País de Origem</th>\n",
       "    </tr>\n",
       "    <tr>\n",
       "      <th>Indivíduo</th>\n",
       "      <th></th>\n",
       "    </tr>\n",
       "  </thead>\n",
       "  <tbody>\n",
       "    <tr>\n",
       "      <th>1</th>\n",
       "      <td>Brasil</td>\n",
       "    </tr>\n",
       "    <tr>\n",
       "      <th>2</th>\n",
       "      <td>Inglaterra</td>\n",
       "    </tr>\n",
       "    <tr>\n",
       "      <th>3</th>\n",
       "      <td>Japão</td>\n",
       "    </tr>\n",
       "    <tr>\n",
       "      <th>4</th>\n",
       "      <td>EUA</td>\n",
       "    </tr>\n",
       "    <tr>\n",
       "      <th>5</th>\n",
       "      <td>Brasil</td>\n",
       "    </tr>\n",
       "  </tbody>\n",
       "</table>\n",
       "</div>"
      ],
      "text/plain": [
       "          País de Origem\n",
       "Indivíduo               \n",
       "1                 Brasil\n",
       "2             Inglaterra\n",
       "3                  Japão\n",
       "4                    EUA\n",
       "5                 Brasil"
      ]
     },
     "execution_count": 4,
     "metadata": {},
     "output_type": "execute_result"
    }
   ],
   "source": [
    "df = pd.read_csv(file_name, sep=';', index_col=0)\n",
    "df.head()"
   ]
  },
  {
   "cell_type": "code",
   "execution_count": 5,
   "metadata": {},
   "outputs": [
    {
     "data": {
      "text/html": [
       "<div>\n",
       "<style scoped>\n",
       "    .dataframe tbody tr th:only-of-type {\n",
       "        vertical-align: middle;\n",
       "    }\n",
       "\n",
       "    .dataframe tbody tr th {\n",
       "        vertical-align: top;\n",
       "    }\n",
       "\n",
       "    .dataframe thead th {\n",
       "        text-align: right;\n",
       "    }\n",
       "</style>\n",
       "<table border=\"1\" class=\"dataframe\">\n",
       "  <thead>\n",
       "    <tr style=\"text-align: right;\">\n",
       "      <th></th>\n",
       "      <th>País de Origem</th>\n",
       "      <th>Frequência Absoluta</th>\n",
       "      <th>Frequência Relativa</th>\n",
       "      <th>Frequência Acumulada</th>\n",
       "      <th>Frequência Relativa Acumulada</th>\n",
       "    </tr>\n",
       "  </thead>\n",
       "  <tbody>\n",
       "    <tr>\n",
       "      <th>0</th>\n",
       "      <td>Brasil</td>\n",
       "      <td>59</td>\n",
       "      <td>0.196667</td>\n",
       "      <td>59</td>\n",
       "      <td>0.196667</td>\n",
       "    </tr>\n",
       "    <tr>\n",
       "      <th>1</th>\n",
       "      <td>EUA</td>\n",
       "      <td>35</td>\n",
       "      <td>0.116667</td>\n",
       "      <td>94</td>\n",
       "      <td>0.313333</td>\n",
       "    </tr>\n",
       "    <tr>\n",
       "      <th>2</th>\n",
       "      <td>Índia</td>\n",
       "      <td>19</td>\n",
       "      <td>0.063333</td>\n",
       "      <td>113</td>\n",
       "      <td>0.376667</td>\n",
       "    </tr>\n",
       "    <tr>\n",
       "      <th>3</th>\n",
       "      <td>China</td>\n",
       "      <td>18</td>\n",
       "      <td>0.060000</td>\n",
       "      <td>131</td>\n",
       "      <td>0.436667</td>\n",
       "    </tr>\n",
       "    <tr>\n",
       "      <th>4</th>\n",
       "      <td>Uruguai</td>\n",
       "      <td>17</td>\n",
       "      <td>0.056667</td>\n",
       "      <td>148</td>\n",
       "      <td>0.493333</td>\n",
       "    </tr>\n",
       "    <tr>\n",
       "      <th>5</th>\n",
       "      <td>Japão</td>\n",
       "      <td>16</td>\n",
       "      <td>0.053333</td>\n",
       "      <td>164</td>\n",
       "      <td>0.546667</td>\n",
       "    </tr>\n",
       "    <tr>\n",
       "      <th>6</th>\n",
       "      <td>Austrália</td>\n",
       "      <td>15</td>\n",
       "      <td>0.050000</td>\n",
       "      <td>179</td>\n",
       "      <td>0.596667</td>\n",
       "    </tr>\n",
       "    <tr>\n",
       "      <th>7</th>\n",
       "      <td>África do Sul</td>\n",
       "      <td>14</td>\n",
       "      <td>0.046667</td>\n",
       "      <td>193</td>\n",
       "      <td>0.643333</td>\n",
       "    </tr>\n",
       "    <tr>\n",
       "      <th>8</th>\n",
       "      <td>Rússia</td>\n",
       "      <td>14</td>\n",
       "      <td>0.046667</td>\n",
       "      <td>207</td>\n",
       "      <td>0.690000</td>\n",
       "    </tr>\n",
       "    <tr>\n",
       "      <th>9</th>\n",
       "      <td>Inglaterra</td>\n",
       "      <td>12</td>\n",
       "      <td>0.040000</td>\n",
       "      <td>219</td>\n",
       "      <td>0.730000</td>\n",
       "    </tr>\n",
       "    <tr>\n",
       "      <th>10</th>\n",
       "      <td>Suiça</td>\n",
       "      <td>11</td>\n",
       "      <td>0.036667</td>\n",
       "      <td>230</td>\n",
       "      <td>0.766667</td>\n",
       "    </tr>\n",
       "    <tr>\n",
       "      <th>11</th>\n",
       "      <td>Argentina</td>\n",
       "      <td>10</td>\n",
       "      <td>0.033333</td>\n",
       "      <td>240</td>\n",
       "      <td>0.800000</td>\n",
       "    </tr>\n",
       "    <tr>\n",
       "      <th>12</th>\n",
       "      <td>Alemanha</td>\n",
       "      <td>10</td>\n",
       "      <td>0.033333</td>\n",
       "      <td>250</td>\n",
       "      <td>0.833333</td>\n",
       "    </tr>\n",
       "    <tr>\n",
       "      <th>13</th>\n",
       "      <td>França</td>\n",
       "      <td>10</td>\n",
       "      <td>0.033333</td>\n",
       "      <td>260</td>\n",
       "      <td>0.866667</td>\n",
       "    </tr>\n",
       "    <tr>\n",
       "      <th>14</th>\n",
       "      <td>Itália</td>\n",
       "      <td>9</td>\n",
       "      <td>0.030000</td>\n",
       "      <td>269</td>\n",
       "      <td>0.896667</td>\n",
       "    </tr>\n",
       "    <tr>\n",
       "      <th>15</th>\n",
       "      <td>Canadá</td>\n",
       "      <td>9</td>\n",
       "      <td>0.030000</td>\n",
       "      <td>278</td>\n",
       "      <td>0.926667</td>\n",
       "    </tr>\n",
       "    <tr>\n",
       "      <th>16</th>\n",
       "      <td>Egito</td>\n",
       "      <td>8</td>\n",
       "      <td>0.026667</td>\n",
       "      <td>286</td>\n",
       "      <td>0.953333</td>\n",
       "    </tr>\n",
       "    <tr>\n",
       "      <th>17</th>\n",
       "      <td>México</td>\n",
       "      <td>7</td>\n",
       "      <td>0.023333</td>\n",
       "      <td>293</td>\n",
       "      <td>0.976667</td>\n",
       "    </tr>\n",
       "    <tr>\n",
       "      <th>18</th>\n",
       "      <td>Chile</td>\n",
       "      <td>7</td>\n",
       "      <td>0.023333</td>\n",
       "      <td>300</td>\n",
       "      <td>1.000000</td>\n",
       "    </tr>\n",
       "    <tr>\n",
       "      <th>0</th>\n",
       "      <td>Total</td>\n",
       "      <td>300</td>\n",
       "      <td>1.000000</td>\n",
       "      <td>300</td>\n",
       "      <td>1.000000</td>\n",
       "    </tr>\n",
       "  </tbody>\n",
       "</table>\n",
       "</div>"
      ],
      "text/plain": [
       "   País de Origem  Frequência Absoluta  Frequência Relativa  \\\n",
       "0          Brasil                   59             0.196667   \n",
       "1             EUA                   35             0.116667   \n",
       "2           Índia                   19             0.063333   \n",
       "3           China                   18             0.060000   \n",
       "4         Uruguai                   17             0.056667   \n",
       "5           Japão                   16             0.053333   \n",
       "6       Austrália                   15             0.050000   \n",
       "7   África do Sul                   14             0.046667   \n",
       "8          Rússia                   14             0.046667   \n",
       "9      Inglaterra                   12             0.040000   \n",
       "10          Suiça                   11             0.036667   \n",
       "11      Argentina                   10             0.033333   \n",
       "12       Alemanha                   10             0.033333   \n",
       "13         França                   10             0.033333   \n",
       "14         Itália                    9             0.030000   \n",
       "15         Canadá                    9             0.030000   \n",
       "16          Egito                    8             0.026667   \n",
       "17         México                    7             0.023333   \n",
       "18          Chile                    7             0.023333   \n",
       "0           Total                  300             1.000000   \n",
       "\n",
       "    Frequência Acumulada  Frequência Relativa Acumulada  \n",
       "0                     59                       0.196667  \n",
       "1                     94                       0.313333  \n",
       "2                    113                       0.376667  \n",
       "3                    131                       0.436667  \n",
       "4                    148                       0.493333  \n",
       "5                    164                       0.546667  \n",
       "6                    179                       0.596667  \n",
       "7                    193                       0.643333  \n",
       "8                    207                       0.690000  \n",
       "9                    219                       0.730000  \n",
       "10                   230                       0.766667  \n",
       "11                   240                       0.800000  \n",
       "12                   250                       0.833333  \n",
       "13                   260                       0.866667  \n",
       "14                   269                       0.896667  \n",
       "15                   278                       0.926667  \n",
       "16                   286                       0.953333  \n",
       "17                   293                       0.976667  \n",
       "18                   300                       1.000000  \n",
       "0                    300                       1.000000  "
      ]
     },
     "execution_count": 5,
     "metadata": {},
     "output_type": "execute_result"
    }
   ],
   "source": [
    "# Frequência absoluta\n",
    "tabela_frequencia = df['País de Origem'].value_counts().reset_index()\n",
    "tabela_frequencia.columns = ['País de Origem', 'Frequência Absoluta']\n",
    "\n",
    "# Frequência relativa\n",
    "tabela_frequencia['Frequência Relativa'] = tabela_frequencia['Frequência Absoluta'] / df.shape[0]\n",
    "\n",
    "# Frequência acumulada\n",
    "tabela_frequencia['Frequência Acumulada'] = tabela_frequencia['Frequência Absoluta'].cumsum()\n",
    "\n",
    "# Frequência relativa acumulada\n",
    "tabela_frequencia['Frequência Relativa Acumulada'] = tabela_frequencia['Frequência Relativa'].cumsum()\n",
    "\n",
    "# Ordenar por país de origem\n",
    "#tabela_frequencia.sort_values(by='País de Origem', ascending=False, inplace=True)\n",
    "\n",
    "# Adicionar linha de soma\n",
    "soma = pd.DataFrame({\n",
    "    'País de Origem': ['Total'],\n",
    "    'Frequência Absoluta': [tabela_frequencia['Frequência Absoluta'].sum()],\n",
    "    'Frequência Relativa': [tabela_frequencia['Frequência Relativa'].sum()],\n",
    "    'Frequência Acumulada': [tabela_frequencia['Frequência Acumulada'].iloc[-1]],\n",
    "    'Frequência Relativa Acumulada': [tabela_frequencia['Frequência Relativa Acumulada'].iloc[-1]]\n",
    "})\n",
    "tabela_frequencia = pd.concat([tabela_frequencia, soma])\n",
    "\n",
    "tabela_frequencia"
   ]
  },
  {
   "cell_type": "code",
   "execution_count": 6,
   "metadata": {
    "vscode": {
     "languageId": "ruby"
    }
   },
   "outputs": [
    {
     "data": {
      "image/png": "[encoded data removed]",
      "text/plain": [
       "<Figure size 1200x800 with 1 Axes>"
      ]
     },
     "metadata": {},
     "output_type": "display_data"
    }
   ],
   "source": [
    "# Remover a linha com o valor \"Total\"\n",
    "tabela_frequencia_sem_total = tabela_frequencia[tabela_frequencia['País de Origem'] != 'Total']\n",
    "\n",
    "# Criar o gráfico de barras\n",
    "plt.figure(figsize=(12, 8))\n",
    "ax = sns.barplot(data=tabela_frequencia_sem_total, x='País de Origem', y='Frequência Relativa')\n",
    "\n",
    "for patch in ax.patches:\n",
    "    x = patch.get_x() + patch.get_width() / 2\n",
    "    y = patch.get_height()\n",
    "    ax.annotate(f'{y * 100:.2f}', (x, y), ha='center', va='bottom')\n",
    "\n",
    "# Configurar o título e os rótulos dos eixos\n",
    "plt.title('Gráfico de Barras - Frequência Relativa em % de Países de Origem dos Imigrantes')\n",
    "plt.xlabel('País de Origem')\n",
    "plt.xticks(rotation=90)\n",
    "plt.ylabel('Frequência Relativa (%)')\n",
    "\n",
    "# Exibir o gráfico\n",
    "plt.show()\n"
   ]
  },
  {
   "cell_type": "markdown",
   "metadata": {},
   "source": [
    "#### Analise Descritivas & Quantitativas"
   ]
  },
  {
   "cell_type": "code",
   "execution_count": 7,
   "metadata": {
    "vscode": {
     "languageId": "ruby"
    }
   },
   "outputs": [],
   "source": [
    "file_name = './dataset/observacao_precos.csv'"
   ]
  },
  {
   "cell_type": "code",
   "execution_count": 8,
   "metadata": {
    "vscode": {
     "languageId": "ruby"
    }
   },
   "outputs": [
    {
     "data": {
      "text/html": [
       "<div>\n",
       "<style scoped>\n",
       "    .dataframe tbody tr th:only-of-type {\n",
       "        vertical-align: middle;\n",
       "    }\n",
       "\n",
       "    .dataframe tbody tr th {\n",
       "        vertical-align: top;\n",
       "    }\n",
       "\n",
       "    .dataframe thead th {\n",
       "        text-align: right;\n",
       "    }\n",
       "</style>\n",
       "<table border=\"1\" class=\"dataframe\">\n",
       "  <thead>\n",
       "    <tr style=\"text-align: right;\">\n",
       "      <th></th>\n",
       "      <th>Preço ($)</th>\n",
       "    </tr>\n",
       "    <tr>\n",
       "      <th>Nº Observação</th>\n",
       "      <th></th>\n",
       "    </tr>\n",
       "  </thead>\n",
       "  <tbody>\n",
       "    <tr>\n",
       "      <th>1</th>\n",
       "      <td>189.0</td>\n",
       "    </tr>\n",
       "    <tr>\n",
       "      <th>2</th>\n",
       "      <td>195.0</td>\n",
       "    </tr>\n",
       "    <tr>\n",
       "      <th>3</th>\n",
       "      <td>199.0</td>\n",
       "    </tr>\n",
       "    <tr>\n",
       "      <th>4</th>\n",
       "      <td>189.0</td>\n",
       "    </tr>\n",
       "    <tr>\n",
       "      <th>5</th>\n",
       "      <td>197.0</td>\n",
       "    </tr>\n",
       "  </tbody>\n",
       "</table>\n",
       "</div>"
      ],
      "text/plain": [
       "               Preço ($)\n",
       "Nº Observação           \n",
       "1                  189.0\n",
       "2                  195.0\n",
       "3                  199.0\n",
       "4                  189.0\n",
       "5                  197.0"
      ]
     },
     "execution_count": 8,
     "metadata": {},
     "output_type": "execute_result"
    }
   ],
   "source": [
    "df = pd.read_csv(file_name, sep=';', index_col=0)\n",
    "df['Preço ($)'] = df['Preço ($)'].str.replace(',', '.').astype(float)\n",
    "df.head()"
   ]
  },
  {
   "cell_type": "code",
   "execution_count": 9,
   "metadata": {
    "vscode": {
     "languageId": "ruby"
    }
   },
   "outputs": [
    {
     "data": {
      "text/html": [
       "<div>\n",
       "<style scoped>\n",
       "    .dataframe tbody tr th:only-of-type {\n",
       "        vertical-align: middle;\n",
       "    }\n",
       "\n",
       "    .dataframe tbody tr th {\n",
       "        vertical-align: top;\n",
       "    }\n",
       "\n",
       "    .dataframe thead th {\n",
       "        text-align: right;\n",
       "    }\n",
       "</style>\n",
       "<table border=\"1\" class=\"dataframe\">\n",
       "  <thead>\n",
       "    <tr style=\"text-align: right;\">\n",
       "      <th></th>\n",
       "      <th>count</th>\n",
       "      <th>mean</th>\n",
       "      <th>std</th>\n",
       "      <th>min</th>\n",
       "      <th>25%</th>\n",
       "      <th>50%</th>\n",
       "      <th>75%</th>\n",
       "      <th>max</th>\n",
       "    </tr>\n",
       "  </thead>\n",
       "  <tbody>\n",
       "    <tr>\n",
       "      <th>Preço ($)</th>\n",
       "      <td>100.0</td>\n",
       "      <td>190.77</td>\n",
       "      <td>15.621052</td>\n",
       "      <td>149.0</td>\n",
       "      <td>179.0</td>\n",
       "      <td>189.0</td>\n",
       "      <td>199.0</td>\n",
       "      <td>239.0</td>\n",
       "    </tr>\n",
       "  </tbody>\n",
       "</table>\n",
       "</div>"
      ],
      "text/plain": [
       "           count    mean        std    min    25%    50%    75%    max\n",
       "Preço ($)  100.0  190.77  15.621052  149.0  179.0  189.0  199.0  239.0"
      ]
     },
     "execution_count": 9,
     "metadata": {},
     "output_type": "execute_result"
    }
   ],
   "source": [
    "df_describe = df.describe().T\n",
    "df_describe"
   ]
  },
  {
   "cell_type": "code",
   "execution_count": 10,
   "metadata": {
    "vscode": {
     "languageId": "ruby"
    }
   },
   "outputs": [
    {
     "data": {
      "text/html": [
       "<div>\n",
       "<style scoped>\n",
       "    .dataframe tbody tr th:only-of-type {\n",
       "        vertical-align: middle;\n",
       "    }\n",
       "\n",
       "    .dataframe tbody tr th {\n",
       "        vertical-align: top;\n",
       "    }\n",
       "\n",
       "    .dataframe thead th {\n",
       "        text-align: right;\n",
       "    }\n",
       "</style>\n",
       "<table border=\"1\" class=\"dataframe\">\n",
       "  <thead>\n",
       "    <tr style=\"text-align: right;\">\n",
       "      <th></th>\n",
       "      <th>Preço ($)</th>\n",
       "    </tr>\n",
       "  </thead>\n",
       "  <tbody>\n",
       "    <tr>\n",
       "      <th>count</th>\n",
       "      <td>100.000000</td>\n",
       "    </tr>\n",
       "    <tr>\n",
       "      <th>mean</th>\n",
       "      <td>190.770000</td>\n",
       "    </tr>\n",
       "    <tr>\n",
       "      <th>std</th>\n",
       "      <td>15.621052</td>\n",
       "    </tr>\n",
       "    <tr>\n",
       "      <th>min</th>\n",
       "      <td>149.000000</td>\n",
       "    </tr>\n",
       "    <tr>\n",
       "      <th>25%</th>\n",
       "      <td>179.000000</td>\n",
       "    </tr>\n",
       "    <tr>\n",
       "      <th>50%</th>\n",
       "      <td>189.000000</td>\n",
       "    </tr>\n",
       "    <tr>\n",
       "      <th>75%</th>\n",
       "      <td>199.000000</td>\n",
       "    </tr>\n",
       "    <tr>\n",
       "      <th>max</th>\n",
       "      <td>239.000000</td>\n",
       "    </tr>\n",
       "    <tr>\n",
       "      <th>Amplitude</th>\n",
       "      <td>90.000000</td>\n",
       "    </tr>\n",
       "    <tr>\n",
       "      <th>Variância</th>\n",
       "      <td>244.017273</td>\n",
       "    </tr>\n",
       "    <tr>\n",
       "      <th>Erro Padrão</th>\n",
       "      <td>1.562105</td>\n",
       "    </tr>\n",
       "    <tr>\n",
       "      <th>Coeficiente de Variação</th>\n",
       "      <td>0.081884</td>\n",
       "    </tr>\n",
       "    <tr>\n",
       "      <th>Coeficiente de Assimetria</th>\n",
       "      <td>0.089906</td>\n",
       "    </tr>\n",
       "    <tr>\n",
       "      <th>Coeficiente de Curtose</th>\n",
       "      <td>0.669453</td>\n",
       "    </tr>\n",
       "  </tbody>\n",
       "</table>\n",
       "</div>"
      ],
      "text/plain": [
       "                            Preço ($)\n",
       "count                      100.000000\n",
       "mean                       190.770000\n",
       "std                         15.621052\n",
       "min                        149.000000\n",
       "25%                        179.000000\n",
       "50%                        189.000000\n",
       "75%                        199.000000\n",
       "max                        239.000000\n",
       "Amplitude                   90.000000\n",
       "Variância                  244.017273\n",
       "Erro Padrão                  1.562105\n",
       "Coeficiente de Variação      0.081884\n",
       "Coeficiente de Assimetria    0.089906\n",
       "Coeficiente de Curtose       0.669453"
      ]
     },
     "execution_count": 10,
     "metadata": {},
     "output_type": "execute_result"
    }
   ],
   "source": [
    "# Calculate additional metrics\n",
    "df_describe['Amplitude'] = df['Preço ($)'].max() - df['Preço ($)'].min()\n",
    "df_describe['Variância'] = df['Preço ($)'].var()\n",
    "df_describe['Erro Padrão'] =  df['Preço ($)'].std() / np.sqrt(len(df['Preço ($)']))\n",
    "df_describe['Coeficiente de Variação'] = df['Preço ($)'].std() / df['Preço ($)'].mean()\n",
    "df_describe['Coeficiente de Assimetria'] = df['Preço ($)'].skew()\n",
    "df_describe['Coeficiente de Curtose'] = df['Preço ($)'].kurtosis()\n",
    "\n",
    "df_describe.T\n"
   ]
  },
  {
   "cell_type": "markdown",
   "metadata": {},
   "source": [
    "### Associção Qui²"
   ]
  },
  {
   "cell_type": "code",
   "execution_count": 11,
   "metadata": {
    "vscode": {
     "languageId": "ruby"
    }
   },
   "outputs": [],
   "source": [
    "file_name = './dataset/associacao_qui2.csv'"
   ]
  },
  {
   "cell_type": "markdown",
   "metadata": {},
   "source": [
    "Processo manual para validar a associação com base no qui²"
   ]
  },
  {
   "cell_type": "code",
   "execution_count": 12,
   "metadata": {
    "vscode": {
     "languageId": "ruby"
    }
   },
   "outputs": [
    {
     "data": {
      "text/html": [
       "<div>\n",
       "<style scoped>\n",
       "    .dataframe tbody tr th:only-of-type {\n",
       "        vertical-align: middle;\n",
       "    }\n",
       "\n",
       "    .dataframe tbody tr th {\n",
       "        vertical-align: top;\n",
       "    }\n",
       "\n",
       "    .dataframe thead th {\n",
       "        text-align: right;\n",
       "    }\n",
       "</style>\n",
       "<table border=\"1\" class=\"dataframe\">\n",
       "  <thead>\n",
       "    <tr style=\"text-align: right;\">\n",
       "      <th></th>\n",
       "      <th>Operadora</th>\n",
       "      <th>Baixo</th>\n",
       "      <th>Médio</th>\n",
       "      <th>Alto</th>\n",
       "    </tr>\n",
       "  </thead>\n",
       "  <tbody>\n",
       "    <tr>\n",
       "      <th>0</th>\n",
       "      <td>Total Health</td>\n",
       "      <td>40</td>\n",
       "      <td>16</td>\n",
       "      <td>12</td>\n",
       "    </tr>\n",
       "    <tr>\n",
       "      <th>1</th>\n",
       "      <td>Viva Vida</td>\n",
       "      <td>32</td>\n",
       "      <td>24</td>\n",
       "      <td>16</td>\n",
       "    </tr>\n",
       "    <tr>\n",
       "      <th>2</th>\n",
       "      <td>Mena Saúde</td>\n",
       "      <td>24</td>\n",
       "      <td>32</td>\n",
       "      <td>4</td>\n",
       "    </tr>\n",
       "  </tbody>\n",
       "</table>\n",
       "</div>"
      ],
      "text/plain": [
       "      Operadora  Baixo  Médio  Alto\n",
       "0  Total Health     40     16    12\n",
       "1     Viva Vida     32     24    16\n",
       "2    Mena Saúde     24     32     4"
      ]
     },
     "execution_count": 12,
     "metadata": {},
     "output_type": "execute_result"
    }
   ],
   "source": [
    "df = pd.read_csv(file_name, sep=';')\n",
    "df.head()"
   ]
  },
  {
   "cell_type": "code",
   "execution_count": 13,
   "metadata": {
    "vscode": {
     "languageId": "ruby"
    }
   },
   "outputs": [
    {
     "data": {
      "text/html": [
       "<div>\n",
       "<style scoped>\n",
       "    .dataframe tbody tr th:only-of-type {\n",
       "        vertical-align: middle;\n",
       "    }\n",
       "\n",
       "    .dataframe tbody tr th {\n",
       "        vertical-align: top;\n",
       "    }\n",
       "\n",
       "    .dataframe thead th {\n",
       "        text-align: right;\n",
       "    }\n",
       "</style>\n",
       "<table border=\"1\" class=\"dataframe\">\n",
       "  <thead>\n",
       "    <tr style=\"text-align: right;\">\n",
       "      <th></th>\n",
       "      <th>Operadora</th>\n",
       "      <th>Baixo</th>\n",
       "      <th>Médio</th>\n",
       "      <th>Alto</th>\n",
       "      <th>Total</th>\n",
       "    </tr>\n",
       "  </thead>\n",
       "  <tbody>\n",
       "    <tr>\n",
       "      <th>0</th>\n",
       "      <td>Total Health</td>\n",
       "      <td>40</td>\n",
       "      <td>16</td>\n",
       "      <td>12</td>\n",
       "      <td>68</td>\n",
       "    </tr>\n",
       "    <tr>\n",
       "      <th>1</th>\n",
       "      <td>Viva Vida</td>\n",
       "      <td>32</td>\n",
       "      <td>24</td>\n",
       "      <td>16</td>\n",
       "      <td>72</td>\n",
       "    </tr>\n",
       "    <tr>\n",
       "      <th>2</th>\n",
       "      <td>Mena Saúde</td>\n",
       "      <td>24</td>\n",
       "      <td>32</td>\n",
       "      <td>4</td>\n",
       "      <td>60</td>\n",
       "    </tr>\n",
       "  </tbody>\n",
       "</table>\n",
       "</div>"
      ],
      "text/plain": [
       "      Operadora  Baixo  Médio  Alto  Total\n",
       "0  Total Health     40     16    12     68\n",
       "1     Viva Vida     32     24    16     72\n",
       "2    Mena Saúde     24     32     4     60"
      ]
     },
     "execution_count": 13,
     "metadata": {},
     "output_type": "execute_result"
    }
   ],
   "source": [
    "df['Total'] = df[df.columns[1:4]].sum(axis=1)\n",
    "df"
   ]
  },
  {
   "cell_type": "code",
   "execution_count": 14,
   "metadata": {
    "vscode": {
     "languageId": "ruby"
    }
   },
   "outputs": [
    {
     "data": {
      "text/html": [
       "<div>\n",
       "<style scoped>\n",
       "    .dataframe tbody tr th:only-of-type {\n",
       "        vertical-align: middle;\n",
       "    }\n",
       "\n",
       "    .dataframe tbody tr th {\n",
       "        vertical-align: top;\n",
       "    }\n",
       "\n",
       "    .dataframe thead th {\n",
       "        text-align: right;\n",
       "    }\n",
       "</style>\n",
       "<table border=\"1\" class=\"dataframe\">\n",
       "  <thead>\n",
       "    <tr style=\"text-align: right;\">\n",
       "      <th></th>\n",
       "      <th>Operadora</th>\n",
       "      <th>Baixo</th>\n",
       "      <th>Médio</th>\n",
       "      <th>Alto</th>\n",
       "    </tr>\n",
       "  </thead>\n",
       "  <tbody>\n",
       "    <tr>\n",
       "      <th>0</th>\n",
       "      <td>Total Health</td>\n",
       "      <td>32.64</td>\n",
       "      <td>24.48</td>\n",
       "      <td>10.88</td>\n",
       "    </tr>\n",
       "    <tr>\n",
       "      <th>1</th>\n",
       "      <td>Viva Vida</td>\n",
       "      <td>34.56</td>\n",
       "      <td>25.92</td>\n",
       "      <td>11.52</td>\n",
       "    </tr>\n",
       "    <tr>\n",
       "      <th>2</th>\n",
       "      <td>Mena Saúde</td>\n",
       "      <td>28.80</td>\n",
       "      <td>21.60</td>\n",
       "      <td>9.60</td>\n",
       "    </tr>\n",
       "  </tbody>\n",
       "</table>\n",
       "</div>"
      ],
      "text/plain": [
       "      Operadora  Baixo  Médio   Alto\n",
       "0  Total Health  32.64  24.48  10.88\n",
       "1     Viva Vida  34.56  25.92  11.52\n",
       "2    Mena Saúde  28.80  21.60   9.60"
      ]
     },
     "execution_count": 14,
     "metadata": {},
     "output_type": "execute_result"
    }
   ],
   "source": [
    "df_frequencia = pd.DataFrame()\n",
    "df_frequencia['Operadora'] = df['Operadora']\n",
    "\n",
    "for column in df.columns[1:4]:\n",
    "    df_frequencia[column] = (df['Total'] * df[column].sum()) / df['Total'].sum()\n",
    "df_frequencia"
   ]
  },
  {
   "cell_type": "code",
   "execution_count": 15,
   "metadata": {
    "vscode": {
     "languageId": "ruby"
    }
   },
   "outputs": [
    {
     "data": {
      "text/html": [
       "<div>\n",
       "<style scoped>\n",
       "    .dataframe tbody tr th:only-of-type {\n",
       "        vertical-align: middle;\n",
       "    }\n",
       "\n",
       "    .dataframe tbody tr th {\n",
       "        vertical-align: top;\n",
       "    }\n",
       "\n",
       "    .dataframe thead th {\n",
       "        text-align: right;\n",
       "    }\n",
       "</style>\n",
       "<table border=\"1\" class=\"dataframe\">\n",
       "  <thead>\n",
       "    <tr style=\"text-align: right;\">\n",
       "      <th></th>\n",
       "      <th>Operadora</th>\n",
       "      <th>Baixo</th>\n",
       "      <th>Médio</th>\n",
       "      <th>Alto</th>\n",
       "    </tr>\n",
       "  </thead>\n",
       "  <tbody>\n",
       "    <tr>\n",
       "      <th>0</th>\n",
       "      <td>Total Health</td>\n",
       "      <td>7.36</td>\n",
       "      <td>-8.48</td>\n",
       "      <td>1.12</td>\n",
       "    </tr>\n",
       "    <tr>\n",
       "      <th>1</th>\n",
       "      <td>Viva Vida</td>\n",
       "      <td>-2.56</td>\n",
       "      <td>-1.92</td>\n",
       "      <td>4.48</td>\n",
       "    </tr>\n",
       "    <tr>\n",
       "      <th>2</th>\n",
       "      <td>Mena Saúde</td>\n",
       "      <td>-4.80</td>\n",
       "      <td>10.40</td>\n",
       "      <td>-5.60</td>\n",
       "    </tr>\n",
       "  </tbody>\n",
       "</table>\n",
       "</div>"
      ],
      "text/plain": [
       "      Operadora  Baixo  Médio  Alto\n",
       "0  Total Health   7.36  -8.48  1.12\n",
       "1     Viva Vida  -2.56  -1.92  4.48\n",
       "2    Mena Saúde  -4.80  10.40 -5.60"
      ]
     },
     "execution_count": 15,
     "metadata": {},
     "output_type": "execute_result"
    }
   ],
   "source": [
    "df_residuos = pd.DataFrame()\n",
    "df_residuos['Operadora'] = df['Operadora']\n",
    "for column in df.columns[1:4]:\n",
    "    df_residuos[column] = df[column] - df_frequencia[column]\n",
    "df_residuos"
   ]
  },
  {
   "cell_type": "code",
   "execution_count": 16,
   "metadata": {
    "vscode": {
     "languageId": "ruby"
    }
   },
   "outputs": [
    {
     "data": {
      "text/html": [
       "<div>\n",
       "<style scoped>\n",
       "    .dataframe tbody tr th:only-of-type {\n",
       "        vertical-align: middle;\n",
       "    }\n",
       "\n",
       "    .dataframe tbody tr th {\n",
       "        vertical-align: top;\n",
       "    }\n",
       "\n",
       "    .dataframe thead th {\n",
       "        text-align: right;\n",
       "    }\n",
       "</style>\n",
       "<table border=\"1\" class=\"dataframe\">\n",
       "  <thead>\n",
       "    <tr style=\"text-align: right;\">\n",
       "      <th></th>\n",
       "      <th>Operadora</th>\n",
       "      <th>Baixo</th>\n",
       "      <th>Médio</th>\n",
       "      <th>Alto</th>\n",
       "    </tr>\n",
       "  </thead>\n",
       "  <tbody>\n",
       "    <tr>\n",
       "      <th>0</th>\n",
       "      <td>Total Health</td>\n",
       "      <td>1.659608</td>\n",
       "      <td>2.937516</td>\n",
       "      <td>0.115294</td>\n",
       "    </tr>\n",
       "    <tr>\n",
       "      <th>1</th>\n",
       "      <td>Viva Vida</td>\n",
       "      <td>0.189630</td>\n",
       "      <td>0.142222</td>\n",
       "      <td>1.742222</td>\n",
       "    </tr>\n",
       "    <tr>\n",
       "      <th>2</th>\n",
       "      <td>Mena Saúde</td>\n",
       "      <td>0.800000</td>\n",
       "      <td>5.007407</td>\n",
       "      <td>3.266667</td>\n",
       "    </tr>\n",
       "  </tbody>\n",
       "</table>\n",
       "</div>"
      ],
      "text/plain": [
       "      Operadora     Baixo     Médio      Alto\n",
       "0  Total Health  1.659608  2.937516  0.115294\n",
       "1     Viva Vida  0.189630  0.142222  1.742222\n",
       "2    Mena Saúde  0.800000  5.007407  3.266667"
      ]
     },
     "execution_count": 16,
     "metadata": {},
     "output_type": "execute_result"
    }
   ],
   "source": [
    "df_x2 = pd.DataFrame()\n",
    "df_x2['Operadora'] = df['Operadora']\n",
    "for column in df.columns[1:4]:\n",
    "    df_x2[column] = df_residuos[column] ** 2 / df_frequencia[column]\n",
    "df_x2"
   ]
  },
  {
   "cell_type": "code",
   "execution_count": 17,
   "metadata": {
    "vscode": {
     "languageId": "ruby"
    }
   },
   "outputs": [
    {
     "data": {
      "text/plain": [
       "15.860566448801741"
      ]
     },
     "execution_count": 17,
     "metadata": {},
     "output_type": "execute_result"
    }
   ],
   "source": [
    "x2_total = df_x2[df.columns[1:4]].sum().sum()\n",
    "x2_total"
   ]
  },
  {
   "cell_type": "code",
   "execution_count": 18,
   "metadata": {},
   "outputs": [
    {
     "data": {
      "text/plain": [
       "0.003212084698153722"
      ]
     },
     "execution_count": 18,
     "metadata": {},
     "output_type": "execute_result"
    }
   ],
   "source": [
    "# Graus de liberdade\n",
    "shape = df.drop(columns=['Operadora', 'Total']).shape\n",
    "freedom_ = (shape[1] - 1) * (shape[0] - 1)\n",
    "\n",
    "# Valor p\n",
    "p_value = stats.chi2.sf(x2_total, freedom_)\n",
    "\n",
    "p_value"
   ]
  },
  {
   "cell_type": "code",
   "execution_count": 19,
   "metadata": {},
   "outputs": [
    {
     "data": {
      "text/plain": [
       "9.487729036781154"
      ]
     },
     "execution_count": 19,
     "metadata": {},
     "output_type": "execute_result"
    }
   ],
   "source": [
    "critical_value = stats.chi2.ppf(0.95, freedom_)\n",
    "critical_value"
   ]
  },
  {
   "cell_type": "markdown",
   "metadata": {},
   "source": [
    "Processo automatizado"
   ]
  },
  {
   "cell_type": "code",
   "execution_count": 20,
   "metadata": {},
   "outputs": [
    {
     "name": "stdout",
     "output_type": "stream",
     "text": [
      "Chi-square statistic: 15.860566448801741\n",
      "p-value: 0.003212084698153722\n",
      "degree freedom: 4\n",
      "critical value: 9.487729036781154\n",
      "Conclusão:  Rejeitar H0\n"
     ]
    }
   ],
   "source": [
    "# Create a contingency table\n",
    "contingency_table = df[['Baixo', 'Médio', 'Alto']].values\n",
    "\n",
    "# Perform the chi-square test\n",
    "chi2_value, p_value, degree_freedom, _ = stats.chi2_contingency(contingency_table)\n",
    "critical_value = stats.chi2.ppf(0.95, int(degree_freedom))\n",
    "\n",
    "# Print the results\n",
    "print(\"Chi-square statistic:\", chi2_value)\n",
    "print(\"p-value:\", p_value)\n",
    "print(\"degree freedom:\", degree_freedom)\n",
    "print(\"critical value:\", critical_value)\n",
    "print(\"Conclusão: \", \"Rejeitar H0\" if chi2_value > critical_value else \"Aceitar H0\")\n"
   ]
  },
  {
   "cell_type": "markdown",
   "metadata": {},
   "source": [
    "### Correlação de Person"
   ]
  },
  {
   "cell_type": "code",
   "execution_count": 21,
   "metadata": {},
   "outputs": [],
   "source": [
    "file_name = './dataset/notas_provas.csv'"
   ]
  },
  {
   "cell_type": "code",
   "execution_count": 22,
   "metadata": {},
   "outputs": [
    {
     "data": {
      "text/html": [
       "<div>\n",
       "<style scoped>\n",
       "    .dataframe tbody tr th:only-of-type {\n",
       "        vertical-align: middle;\n",
       "    }\n",
       "\n",
       "    .dataframe tbody tr th {\n",
       "        vertical-align: top;\n",
       "    }\n",
       "\n",
       "    .dataframe thead th {\n",
       "        text-align: right;\n",
       "    }\n",
       "</style>\n",
       "<table border=\"1\" class=\"dataframe\">\n",
       "  <thead>\n",
       "    <tr style=\"text-align: right;\">\n",
       "      <th></th>\n",
       "      <th>Nota Matemática</th>\n",
       "      <th>Nota Física</th>\n",
       "      <th>Nota Literatura</th>\n",
       "    </tr>\n",
       "  </thead>\n",
       "  <tbody>\n",
       "    <tr>\n",
       "      <th>0</th>\n",
       "      <td>5,50</td>\n",
       "      <td>7,50</td>\n",
       "      <td>9,00</td>\n",
       "    </tr>\n",
       "    <tr>\n",
       "      <th>1</th>\n",
       "      <td>9,00</td>\n",
       "      <td>8,50</td>\n",
       "      <td>5,50</td>\n",
       "    </tr>\n",
       "    <tr>\n",
       "      <th>2</th>\n",
       "      <td>4,50</td>\n",
       "      <td>5,00</td>\n",
       "      <td>6,50</td>\n",
       "    </tr>\n",
       "    <tr>\n",
       "      <th>3</th>\n",
       "      <td>6,50</td>\n",
       "      <td>8,00</td>\n",
       "      <td>6,50</td>\n",
       "    </tr>\n",
       "    <tr>\n",
       "      <th>4</th>\n",
       "      <td>7,50</td>\n",
       "      <td>6,00</td>\n",
       "      <td>5,00</td>\n",
       "    </tr>\n",
       "  </tbody>\n",
       "</table>\n",
       "</div>"
      ],
      "text/plain": [
       "  Nota Matemática Nota Física Nota Literatura\n",
       "0            5,50        7,50            9,00\n",
       "1            9,00        8,50            5,50\n",
       "2            4,50        5,00            6,50\n",
       "3            6,50        8,00            6,50\n",
       "4            7,50        6,00            5,00"
      ]
     },
     "execution_count": 22,
     "metadata": {},
     "output_type": "execute_result"
    }
   ],
   "source": [
    "df = pd.read_csv(file_name, sep=';')\n",
    "df.head()"
   ]
  },
  {
   "cell_type": "code",
   "execution_count": 23,
   "metadata": {},
   "outputs": [
    {
     "data": {
      "text/html": [
       "<div>\n",
       "<style scoped>\n",
       "    .dataframe tbody tr th:only-of-type {\n",
       "        vertical-align: middle;\n",
       "    }\n",
       "\n",
       "    .dataframe tbody tr th {\n",
       "        vertical-align: top;\n",
       "    }\n",
       "\n",
       "    .dataframe thead th {\n",
       "        text-align: right;\n",
       "    }\n",
       "</style>\n",
       "<table border=\"1\" class=\"dataframe\">\n",
       "  <thead>\n",
       "    <tr style=\"text-align: right;\">\n",
       "      <th></th>\n",
       "      <th>Nota Matemática</th>\n",
       "      <th>Nota Física</th>\n",
       "      <th>Nota Literatura</th>\n",
       "    </tr>\n",
       "  </thead>\n",
       "  <tbody>\n",
       "    <tr>\n",
       "      <th>0</th>\n",
       "      <td>5.5</td>\n",
       "      <td>7.5</td>\n",
       "      <td>9.0</td>\n",
       "    </tr>\n",
       "    <tr>\n",
       "      <th>1</th>\n",
       "      <td>9.0</td>\n",
       "      <td>8.5</td>\n",
       "      <td>5.5</td>\n",
       "    </tr>\n",
       "    <tr>\n",
       "      <th>2</th>\n",
       "      <td>4.5</td>\n",
       "      <td>5.0</td>\n",
       "      <td>6.5</td>\n",
       "    </tr>\n",
       "    <tr>\n",
       "      <th>3</th>\n",
       "      <td>6.5</td>\n",
       "      <td>8.0</td>\n",
       "      <td>6.5</td>\n",
       "    </tr>\n",
       "    <tr>\n",
       "      <th>4</th>\n",
       "      <td>7.5</td>\n",
       "      <td>6.0</td>\n",
       "      <td>5.0</td>\n",
       "    </tr>\n",
       "  </tbody>\n",
       "</table>\n",
       "</div>"
      ],
      "text/plain": [
       "   Nota Matemática  Nota Física  Nota Literatura\n",
       "0              5.5          7.5              9.0\n",
       "1              9.0          8.5              5.5\n",
       "2              4.5          5.0              6.5\n",
       "3              6.5          8.0              6.5\n",
       "4              7.5          6.0              5.0"
      ]
     },
     "execution_count": 23,
     "metadata": {},
     "output_type": "execute_result"
    }
   ],
   "source": [
    "for column in df.columns:\n",
    "    df[column] = df[column].apply(lambda x: x.replace('.', '').replace(',', '.')).astype(float)\n",
    "df.head()"
   ]
  },
  {
   "cell_type": "code",
   "execution_count": 24,
   "metadata": {},
   "outputs": [
    {
     "data": {
      "text/html": [
       "<div>\n",
       "<style scoped>\n",
       "    .dataframe tbody tr th:only-of-type {\n",
       "        vertical-align: middle;\n",
       "    }\n",
       "\n",
       "    .dataframe tbody tr th {\n",
       "        vertical-align: top;\n",
       "    }\n",
       "\n",
       "    .dataframe thead th {\n",
       "        text-align: right;\n",
       "    }\n",
       "</style>\n",
       "<table border=\"1\" class=\"dataframe\">\n",
       "  <thead>\n",
       "    <tr style=\"text-align: right;\">\n",
       "      <th></th>\n",
       "      <th>feature1</th>\n",
       "      <th>feature2</th>\n",
       "      <th>corr</th>\n",
       "      <th>p_value</th>\n",
       "    </tr>\n",
       "  </thead>\n",
       "  <tbody>\n",
       "    <tr>\n",
       "      <th>0</th>\n",
       "      <td>Nota Matemática</td>\n",
       "      <td>Nota Física</td>\n",
       "      <td>0.602532</td>\n",
       "      <td>0.000426</td>\n",
       "    </tr>\n",
       "    <tr>\n",
       "      <th>1</th>\n",
       "      <td>Nota Matemática</td>\n",
       "      <td>Nota Literatura</td>\n",
       "      <td>-0.308783</td>\n",
       "      <td>0.096862</td>\n",
       "    </tr>\n",
       "    <tr>\n",
       "      <th>2</th>\n",
       "      <td>Nota Física</td>\n",
       "      <td>Nota Literatura</td>\n",
       "      <td>-0.289561</td>\n",
       "      <td>0.120647</td>\n",
       "    </tr>\n",
       "  </tbody>\n",
       "</table>\n",
       "</div>"
      ],
      "text/plain": [
       "          feature1         feature2      corr   p_value\n",
       "0  Nota Matemática      Nota Física  0.602532  0.000426\n",
       "1  Nota Matemática  Nota Literatura -0.308783  0.096862\n",
       "2      Nota Física  Nota Literatura -0.289561  0.120647"
      ]
     },
     "execution_count": 24,
     "metadata": {},
     "output_type": "execute_result"
    }
   ],
   "source": [
    "corrs = []\n",
    "for i, column in enumerate(df.columns):\n",
    "    if i == len(df.columns) - 1:\n",
    "        break\n",
    "    for j in range(i+1, len(df.columns)):\n",
    "        corr, p_value = stats.pearsonr(df[column], df[df.columns[j]])\n",
    "        corrs.append(dict(\n",
    "            feature1=column,\n",
    "            feature2=df.columns[j],\n",
    "            corr=corr,\n",
    "            p_value=p_value\n",
    "        ))\n",
    "df_corrs = pd.DataFrame(corrs)\n",
    "df_corrs"
   ]
  },
  {
   "cell_type": "code",
   "execution_count": 26,
   "metadata": {},
   "outputs": [
    {
     "data": {
      "text/html": [
       "<div>\n",
       "<style scoped>\n",
       "    .dataframe tbody tr th:only-of-type {\n",
       "        vertical-align: middle;\n",
       "    }\n",
       "\n",
       "    .dataframe tbody tr th {\n",
       "        vertical-align: top;\n",
       "    }\n",
       "\n",
       "    .dataframe thead th {\n",
       "        text-align: right;\n",
       "    }\n",
       "</style>\n",
       "<table border=\"1\" class=\"dataframe\">\n",
       "  <thead>\n",
       "    <tr style=\"text-align: right;\">\n",
       "      <th></th>\n",
       "      <th>feature1</th>\n",
       "      <th>feature2</th>\n",
       "      <th>corr</th>\n",
       "      <th>p_value</th>\n",
       "      <th>critical_value</th>\n",
       "      <th>reject_null</th>\n",
       "    </tr>\n",
       "  </thead>\n",
       "  <tbody>\n",
       "    <tr>\n",
       "      <th>0</th>\n",
       "      <td>Nota Matemática</td>\n",
       "      <td>Nota Física</td>\n",
       "      <td>0.602532</td>\n",
       "      <td>0.000426</td>\n",
       "      <td>2.048407</td>\n",
       "      <td>True</td>\n",
       "    </tr>\n",
       "    <tr>\n",
       "      <th>1</th>\n",
       "      <td>Nota Matemática</td>\n",
       "      <td>Nota Literatura</td>\n",
       "      <td>-0.308783</td>\n",
       "      <td>0.096862</td>\n",
       "      <td>2.048407</td>\n",
       "      <td>False</td>\n",
       "    </tr>\n",
       "    <tr>\n",
       "      <th>2</th>\n",
       "      <td>Nota Física</td>\n",
       "      <td>Nota Literatura</td>\n",
       "      <td>-0.289561</td>\n",
       "      <td>0.120647</td>\n",
       "      <td>2.048407</td>\n",
       "      <td>False</td>\n",
       "    </tr>\n",
       "  </tbody>\n",
       "</table>\n",
       "</div>"
      ],
      "text/plain": [
       "          feature1         feature2      corr   p_value  critical_value  \\\n",
       "0  Nota Matemática      Nota Física  0.602532  0.000426        2.048407   \n",
       "1  Nota Matemática  Nota Literatura -0.308783  0.096862        2.048407   \n",
       "2      Nota Física  Nota Literatura -0.289561  0.120647        2.048407   \n",
       "\n",
       "   reject_null  \n",
       "0         True  \n",
       "1        False  \n",
       "2        False  "
      ]
     },
     "execution_count": 26,
     "metadata": {},
     "output_type": "execute_result"
    }
   ],
   "source": [
    "results = []\n",
    "for item in df_corrs.itertuples():\n",
    "    feature1 = item.feature1\n",
    "    feature2 = item.feature2\n",
    "    corr = item.corr\n",
    "    p_value = item.p_value\n",
    "\n",
    "    critical_value = stats.t.ppf(1-(0.05 / 2), df.shape[0] - 2)\n",
    "    results.append(dict(\n",
    "        feature1=feature1,\n",
    "        feature2=feature2,\n",
    "        corr=corr,\n",
    "        p_value=p_value,\n",
    "        critical_value=critical_value,\n",
    "        reject_null=p_value < 0.05\n",
    "    ))\n",
    "df_results = pd.DataFrame(results)\n",
    "df_results"
   ]
  },
  {
   "cell_type": "markdown",
   "metadata": {},
   "source": [
    "### Funções Principais:\n",
    "\n",
    "1. **Cumulative Distribution Function (CDF)**:\n",
    "   - Descrição: Retorna a probabilidade acumulada de que a variável aleatória seja menor ou igual a um determinado valor.\n",
    "   - Utilização: Amplamente utilizada para calcular probabilidades acumuladas.\n",
    "   - Distribuições: Todas as distribuições de probabilidade.\n",
    "   - Exemplo:\n",
    "     ```python\n",
    "     import scipy.stats as stats\n",
    "\n",
    "     # Calculando a probabilidade acumulada para a distribuição t\n",
    "     p_value = stats.t.cdf(t_value, degrees_of_freedom)\n",
    "     ```\n",
    "\n",
    "2. **Survival Function (SF)**:\n",
    "   - Descrição: Retorna o complemento da função de distribuição acumulada (CDF), ou seja, a probabilidade de que a variável aleatória seja maior que um determinado valor.\n",
    "   - Utilização: Útil para calcular a probabilidade da cauda direita da distribuição.\n",
    "   - Distribuições: Todas as distribuições de probabilidade.\n",
    "   - Exemplo:\n",
    "     ```python\n",
    "     import scipy.stats as stats\n",
    "\n",
    "     # Calculando a probabilidade da cauda direita para a distribuição t\n",
    "     p_value = stats.t.sf(t_value, degrees_of_freedom)\n",
    "     ```\n",
    "\n",
    "3. **Percent Point Function (PPF)**:\n",
    "   - Descrição: Retorna o valor correspondente a uma determinada probabilidade acumulada.\n",
    "   - Utilização: Útil para encontrar percentis ou valores críticos.\n",
    "   - Distribuições: Todas as distribuições de probabilidade.\n",
    "   - Exemplo:\n",
    "     ```python\n",
    "     import scipy.stats as stats\n",
    "\n",
    "     # Encontrando o valor correspondente a uma probabilidade acumulada para a distribuição t\n",
    "     t_value = stats.t.ppf(0.95, degrees_of_freedom)\n",
    "     ```\n",
    "\n",
    "4. **Probability Density Function (PDF)**:\n",
    "   - Descrição: Retorna a densidade de probabilidade em um ponto específico da distribuição.\n",
    "   - Utilização: Útil para entender a distribuição da probabilidade ao longo do suporte da distribuição.\n",
    "   - Distribuições: Todas as distribuições de probabilidade contínuas.\n",
    "   - Exemplo:\n",
    "     ```python\n",
    "     import scipy.stats as stats\n",
    "\n",
    "     # Calculando a densidade de probabilidade para a distribuição normal\n",
    "     pdf_value = stats.norm.pdf(x, mean, std_dev)\n",
    "     ```\n",
    "\n",
    "### Exemplos para as Principais Distribuições:\n",
    "\n",
    "1. **Distribuição t**:\n",
    "   ```python\n",
    "   import scipy.stats as stats\n",
    "\n",
    "   # Parâmetros da distribuição t\n",
    "   t_value = 2.5\n",
    "   degrees_of_freedom = 10\n",
    "\n",
    "   # Exemplo de uso da função sf para calcular P(T > 2.5)\n",
    "   p_value = stats.t.sf(t_value, degrees_of_freedom)\n",
    "   ```\n",
    "2. **Distribuição Qui-quadrado**\n",
    "   ```python\n",
    "   import scipy.stats as stats\n",
    "\n",
    "   # Parâmetros da distribuição qui-quadrado\n",
    "   chi2_value = 10\n",
    "   degrees_of_freedom = 5\n",
    "\n",
    "   # Exemplo de uso da função cdf para calcular P(X < 10)\n",
    "   p_value = stats.chi2.cdf(chi2_value, degrees_of_freedom)\n",
    "   ```\n",
    "\n",
    "3. **Distribuição Normal**\n",
    "   ```python\n",
    "   import scipy.stats as stats\n",
    "\n",
    "   # Parâmetros da distribuição normal\n",
    "   x = 0\n",
    "   mean = 0\n",
    "   std_dev = 1\n",
    "\n",
    "   # Exemplo de uso da função pdf para calcular a densidade de probabilidade em x\n",
    "   pdf_value = stats.norm.pdf(x, mean, std_dev)\n",
    "   ```\n",
    "\n",
    "4. **Distribuição F**\n",
    "   ```python\n",
    "   import scipy.stats as stats\n",
    "\n",
    "   # Parâmetros da distribuição F\n",
    "   f_value = 2.0\n",
    "   dfn = 5\n",
    "   dfd = 10\n",
    "\n",
    "   # Exemplo de uso da função sf para calcular P(F > 2.0)\n",
    "   p_value = stats.f.sf(f_value, dfn, dfd)\n",
    "   ```\n",
    "\n",
    "\n"
   ]
  },
  {
   "cell_type": "markdown",
   "metadata": {},
   "source": [
    "### Distribuição Binomial\n",
    "\n",
    "Utilizado para variaveis categoricas univariada.\n",
    "\n",
    "Quantidade de vezes que desejo SUCESSO em um numero de repeticação X à uma probabilidade p."
   ]
  },
  {
   "cell_type": "code",
   "execution_count": 29,
   "metadata": {},
   "outputs": [
    {
     "data": {
      "text/plain": [
       "0.1423923827895976"
      ]
     },
     "execution_count": 29,
     "metadata": {},
     "output_type": "execute_result"
    }
   ],
   "source": [
    "# Set the parameters for the binomial distribution\n",
    "\n",
    "n = 12  # Number of trials\n",
    "p = 0.065  # Probability of success\n",
    "\n",
    "stats.binom.pmf(2, n, p)\n"
   ]
  },
  {
   "cell_type": "code",
   "execution_count": 30,
   "metadata": {},
   "outputs": [
    {
     "data": {
      "text/plain": [
       "[0, 1, 2, 3, 4, 5, 6, 7, 8, 9, 10, 11, 12]"
      ]
     },
     "execution_count": 30,
     "metadata": {},
     "output_type": "execute_result"
    }
   ],
   "source": [
    "k = list(range(0, 13))\n",
    "k"
   ]
  },
  {
   "cell_type": "code",
   "execution_count": 31,
   "metadata": {},
   "outputs": [
    {
     "data": {
      "text/plain": [
       "[0.44641556695081935,\n",
       " 0.3724108472958708,\n",
       " 0.1423923827895976,\n",
       " 0.03299645233983542,\n",
       " 0.005161209791124005,\n",
       " 0.000574081089066199,\n",
       " 4.6560943943871765e-05,\n",
       " 2.7744489133857887e-06,\n",
       " 1.2054757979283177e-07,\n",
       " 3.7245835705450086e-09,\n",
       " 7.767848088302421e-11,\n",
       " 9.818378721237882e-13,\n",
       " 5.688009063105716e-15]"
      ]
     },
     "execution_count": 31,
     "metadata": {},
     "output_type": "execute_result"
    }
   ],
   "source": [
    "probs = [stats.binom.pmf(i, n, p) for i in k]\n",
    "probs"
   ]
  },
  {
   "cell_type": "code",
   "execution_count": 32,
   "metadata": {},
   "outputs": [
    {
     "data": {
      "image/png": "[encoded data removed]",
      "text/plain": [
       "<Figure size 640x480 with 1 Axes>"
      ]
     },
     "metadata": {},
     "output_type": "display_data"
    }
   ],
   "source": [
    "plt.title('Distribuição Binomial')\n",
    "sns.lineplot(x=k, y=probs)\n",
    "sns.scatterplot(x=k, y=probs, color='red')\n",
    "plt.show()"
   ]
  },
  {
   "cell_type": "markdown",
   "metadata": {},
   "source": [
    "### Distribuição Binomial Negativa\n",
    "\n",
    "Utilizado para variaveis categoricas univariada.\n",
    "\n",
    "Descobrir a probabilidade de ocorrer X vezes um evento em N tentativas com uma probabilidade p de sucesso"
   ]
  },
  {
   "cell_type": "code",
   "execution_count": 34,
   "metadata": {},
   "outputs": [
    {
     "name": "stdout",
     "output_type": "stream",
     "text": [
      "P-value: 0.021193886428541676\n"
     ]
    }
   ],
   "source": [
    "# Parameters for the negative binomial distribution\n",
    "p = .11 # Probabilidade de sucesso\n",
    "x = 10 # Numero de Tentativas\n",
    "k = 3 # Numero de sucessos\n",
    "p_value = stats.nbinom.pmf(x-k, k, p)\n",
    "\n",
    "print(\"P-value:\", p_value)\n"
   ]
  },
  {
   "cell_type": "code",
   "execution_count": 35,
   "metadata": {},
   "outputs": [],
   "source": [
    "x = list(range(1, 21)) # Quantidade de tentativas\n",
    "k = 2 # Numero de sucessos\n",
    "p = 0.4 # Probabilidade de sucesso"
   ]
  },
  {
   "cell_type": "code",
   "execution_count": 36,
   "metadata": {},
   "outputs": [
    {
     "data": {
      "text/plain": [
       "[0.0,\n",
       " 0.16000000000000003,\n",
       " 0.19200000000000006,\n",
       " 0.17279999999999998,\n",
       " 0.13824,\n",
       " 0.10368000000000004,\n",
       " 0.07464960000000004,\n",
       " 0.05225472000000001,\n",
       " 0.03583180799999999,\n",
       " 0.024186470400000003,\n",
       " 0.01612431359999999,\n",
       " 0.010642046975999998,\n",
       " 0.0069657034752,\n",
       " 0.0045277072588800005,\n",
       " 0.0029255954595840006,\n",
       " 0.0018807399383040059,\n",
       " 0.0012036735605145594,\n",
       " 0.0007673418948280315,\n",
       " 0.00048748779200839663,\n",
       " 0.00030874226827198485]"
      ]
     },
     "execution_count": 36,
     "metadata": {},
     "output_type": "execute_result"
    }
   ],
   "source": [
    "probs = [stats.nbinom.pmf((i-k), k, p) for i in x]\n",
    "probs"
   ]
  },
  {
   "cell_type": "code",
   "execution_count": 37,
   "metadata": {},
   "outputs": [
    {
     "data": {
      "image/png": "[encoded data removed]",
      "text/plain": [
       "<Figure size 640x480 with 1 Axes>"
      ]
     },
     "metadata": {},
     "output_type": "display_data"
    }
   ],
   "source": [
    "plt.title('Distribuição Binomial Negativaa')\n",
    "sns.lineplot(x=x, y=probs)\n",
    "sns.scatterplot(x=x, y=probs, color='red')\n",
    "plt.show()"
   ]
  },
  {
   "cell_type": "markdown",
   "metadata": {},
   "source": [
    "### Distribuição de Poisson\n",
    "\n",
    "A distribuição de Poisson é uma distribuição de probabilidade discreta que descreve o número de eventos que ocorrem em um intervalo de tempo ou espaço fixo, quando esses eventos ocorrem de forma independente e em uma taxa média conhecida. Ela é utilizada quando estamos interessados em modelar a ocorrência de eventos raros em um determinado período de tempo ou espaço, como o número de chamadas recebidas em um call center em um determinado intervalo de tempo, o número de acidentes de trânsito em uma determinada região em um dia, entre outros. A distribuição de Poisson é caracterizada por ter uma média e uma variância iguais, e é amplamente utilizada em estatística, teoria das filas, engenharia, entre outras áreas.\n"
   ]
  },
  {
   "cell_type": "code",
   "execution_count": 38,
   "metadata": {},
   "outputs": [
    {
     "data": {
      "text/plain": [
       "0.18044704431548356"
      ]
     },
     "execution_count": 38,
     "metadata": {},
     "output_type": "execute_result"
    }
   ],
   "source": [
    "# Parameters for the Poisson distribution\n",
    "mu = 2 # Taxa de ocorrencia ao longo do tempo (período)\n",
    "k = 3 # Número de sucessos\n",
    "p_value = stats.poisson.pmf(k, mu)\n",
    "p_value"
   ]
  },
  {
   "cell_type": "code",
   "execution_count": 39,
   "metadata": {},
   "outputs": [
    {
     "data": {
      "text/plain": [
       "[0.1353352832366127,\n",
       " 0.2706705664732254,\n",
       " 0.2706705664732254,\n",
       " 0.18044704431548356,\n",
       " 0.09022352215774178,\n",
       " 0.03608940886309672,\n",
       " 0.012029802954365565,\n",
       " 0.0034370865583901616,\n",
       " 0.0008592716395975402,\n",
       " 0.00019094925324389823,\n",
       " 3.818985064877954e-05]"
      ]
     },
     "execution_count": 39,
     "metadata": {},
     "output_type": "execute_result"
    }
   ],
   "source": [
    "k = list(range(0, 11))\n",
    "probs = [stats.poisson.pmf(i, mu) for i in k]\n",
    "probs"
   ]
  },
  {
   "cell_type": "code",
   "execution_count": 40,
   "metadata": {},
   "outputs": [
    {
     "data": {
      "image/png": "[encoded data removed]",
      "text/plain": [
       "<Figure size 640x480 with 1 Axes>"
      ]
     },
     "metadata": {},
     "output_type": "display_data"
    }
   ],
   "source": [
    "plt.title('Distribuição de Poisson')\n",
    "sns.lineplot(x=k, y=probs)\n",
    "sns.scatterplot(x=k, y=probs, color='red')\n",
    "plt.show()"
   ]
  },
  {
   "cell_type": "markdown",
   "metadata": {},
   "source": [
    "### Distribuição Normal\n",
    "\n",
    "Aplicada á valores quantitativos.\n",
    "\n",
    "A distribuição normal, também conhecida como distribuição de Gauss ou distribuição em forma de sino, é uma das distribuições de probabilidade mais importantes na estatística. Ela é caracterizada por sua forma simétrica em torno de um valor médio e sua curva suave.\n",
    "\n",
    "A distribuição normal é amplamente utilizada em análises estatísticas devido a suas propriedades matemáticas e sua aplicabilidade em muitos fenômenos naturais e sociais. Ela é frequentemente utilizada em situações em que os dados seguem uma distribuição aproximadamente simétrica em torno de um valor médio.\n",
    "\n",
    "Alguns exemplos de quando a distribuição normal é utilizada incluem:\n",
    "\n",
    "1. Modelagem de dados: A distribuição normal é frequentemente utilizada para modelar dados contínuos, como altura, peso, tempo de reação, entre outros.\n",
    "\n",
    "2. Testes de hipóteses: Muitos testes estatísticos, como o teste t de Student e o teste de ANOVA, assumem que os dados seguem uma distribuição normal para realizar inferências estatísticas.\n",
    "\n",
    "3. Estimativa de parâmetros: A distribuição normal é utilizada em técnicas de estimativa de parâmetros, como a regressão linear, para estimar os coeficientes do modelo.\n",
    "\n",
    "4. Controle de qualidade: Em processos de controle de qualidade, a distribuição normal é frequentemente utilizada para determinar limites de controle e identificar desvios significativos.\n",
    "\n",
    "É importante ressaltar que nem todos os dados seguem uma distribuição normal. Em alguns casos, é necessário realizar transformações nos dados ou utilizar outras distribuições estatísticas adequadas para analisar os dados de forma correta.\n"
   ]
  },
  {
   "cell_type": "markdown",
   "metadata": {},
   "source": [
    "* model.cdf: Função acumulada\n",
    "\n",
    "* model.pdf: Função de ponto"
   ]
  },
  {
   "cell_type": "code",
   "execution_count": 41,
   "metadata": {},
   "outputs": [
    {
     "name": "stdout",
     "output_type": "stream",
     "text": [
      "Z score:  0.16666666666666652\n",
      "p-value:  0.5661838326109035\n"
     ]
    }
   ],
   "source": [
    "# Parameters for the normal distribution\n",
    "mean = 0.028\n",
    "std = 0.012\n",
    "x = 0.03 # < 0.03\n",
    "\n",
    "# Score Z\n",
    "z_score = (x - mean) / std\n",
    "print('Z score: ', z_score)\n",
    "\n",
    "# Calculate the probability of a value being less than 0.03\n",
    "p_value = stats.norm.cdf(0.03, loc=mean, scale=std)\n",
    "print('p-value: ', p_value)"
   ]
  },
  {
   "cell_type": "code",
   "execution_count": 42,
   "metadata": {},
   "outputs": [
    {
     "data": {
      "text/plain": [
       "array([-5.00000000e+00, -4.90000000e+00, -4.80000000e+00, -4.70000000e+00,\n",
       "       -4.60000000e+00, -4.50000000e+00, -4.40000000e+00, -4.30000000e+00,\n",
       "       -4.20000000e+00, -4.10000000e+00, -4.00000000e+00, -3.90000000e+00,\n",
       "       -3.80000000e+00, -3.70000000e+00, -3.60000000e+00, -3.50000000e+00,\n",
       "       -3.40000000e+00, -3.30000000e+00, -3.20000000e+00, -3.10000000e+00,\n",
       "       -3.00000000e+00, -2.90000000e+00, -2.80000000e+00, -2.70000000e+00,\n",
       "       -2.60000000e+00, -2.50000000e+00, -2.40000000e+00, -2.30000000e+00,\n",
       "       -2.20000000e+00, -2.10000000e+00, -2.00000000e+00, -1.90000000e+00,\n",
       "       -1.80000000e+00, -1.70000000e+00, -1.60000000e+00, -1.50000000e+00,\n",
       "       -1.40000000e+00, -1.30000000e+00, -1.20000000e+00, -1.10000000e+00,\n",
       "       -1.00000000e+00, -9.00000000e-01, -8.00000000e-01, -7.00000000e-01,\n",
       "       -6.00000000e-01, -5.00000000e-01, -4.00000000e-01, -3.00000000e-01,\n",
       "       -2.00000000e-01, -1.00000000e-01, -1.77635684e-14,  1.00000000e-01,\n",
       "        2.00000000e-01,  3.00000000e-01,  4.00000000e-01,  5.00000000e-01,\n",
       "        6.00000000e-01,  7.00000000e-01,  8.00000000e-01,  9.00000000e-01,\n",
       "        1.00000000e+00,  1.10000000e+00,  1.20000000e+00,  1.30000000e+00,\n",
       "        1.40000000e+00,  1.50000000e+00,  1.60000000e+00,  1.70000000e+00,\n",
       "        1.80000000e+00,  1.90000000e+00,  2.00000000e+00,  2.10000000e+00,\n",
       "        2.20000000e+00,  2.30000000e+00,  2.40000000e+00,  2.50000000e+00,\n",
       "        2.60000000e+00,  2.70000000e+00,  2.80000000e+00,  2.90000000e+00,\n",
       "        3.00000000e+00,  3.10000000e+00,  3.20000000e+00,  3.30000000e+00,\n",
       "        3.40000000e+00,  3.50000000e+00,  3.60000000e+00,  3.70000000e+00,\n",
       "        3.80000000e+00,  3.90000000e+00,  4.00000000e+00,  4.10000000e+00,\n",
       "        4.20000000e+00,  4.30000000e+00,  4.40000000e+00,  4.50000000e+00,\n",
       "        4.60000000e+00,  4.70000000e+00,  4.80000000e+00,  4.90000000e+00])"
      ]
     },
     "execution_count": 42,
     "metadata": {},
     "output_type": "execute_result"
    }
   ],
   "source": [
    "zs = np.arange(-5, 5 , 0.1)\n",
    "zs"
   ]
  },
  {
   "cell_type": "code",
   "execution_count": 44,
   "metadata": {},
   "outputs": [
    {
     "data": {
      "text/plain": [
       "[1.4867195147342979e-06,\n",
       " 2.438960745893352e-06,\n",
       " 3.961299091032062e-06,\n",
       " 6.369825178867069e-06,\n",
       " 1.014085206548667e-05,\n",
       " 1.5983741106905332e-05,\n",
       " 2.4942471290053356e-05,\n",
       " 3.853519674208672e-05,\n",
       " 5.8943067756539116e-05,\n",
       " 8.926165717713167e-05,\n",
       " 0.00013383022576488347,\n",
       " 0.00019865547139276957,\n",
       " 0.00029194692579145534,\n",
       " 0.0004247802705507443,\n",
       " 0.0006119019301137612,\n",
       " 0.0008726826950457439,\n",
       " 0.0012322191684729959,\n",
       " 0.0017225689390536463,\n",
       " 0.0023840882014647936,\n",
       " 0.0032668190561998523,\n",
       " 0.004431848411937913,\n",
       " 0.005952532419775727,\n",
       " 0.007915451582979793,\n",
       " 0.010420934814422364,\n",
       " 0.013582969233685318,\n",
       " 0.017528300493568152,\n",
       " 0.022394530294842407,\n",
       " 0.028327037741600544,\n",
       " 0.03547459284623067,\n",
       " 0.043983595980426234,\n",
       " 0.05399096651318691,\n",
       " 0.06561581477467522,\n",
       " 0.07895015830089255,\n",
       " 0.09404907737688507,\n",
       " 0.11092083467945342,\n",
       " 0.12951759566588933,\n",
       " 0.1497274656357422,\n",
       " 0.17136859204780444,\n",
       " 0.19418605498320982,\n",
       " 0.21785217703254722,\n",
       " 0.24197072451913992,\n",
       " 0.2660852498987513,\n",
       " 0.28969155276147934,\n",
       " 0.31225393336675794,\n",
       " 0.33322460289179656,\n",
       " 0.3520653267642967,\n",
       " 0.36827014030332095,\n",
       " 0.3813878154605222,\n",
       " 0.39104269397545455,\n",
       " 0.3969525474770111,\n",
       " 0.3989422804014327,\n",
       " 0.39695254747701253,\n",
       " 0.3910426939754574,\n",
       " 0.38138781546052625,\n",
       " 0.36827014030332617,\n",
       " 0.35206532676430297,\n",
       " 0.33322460289180367,\n",
       " 0.3122539333667657,\n",
       " 0.28969155276148756,\n",
       " 0.26608524989875987,\n",
       " 0.2419707245191485,\n",
       " 0.21785217703255577,\n",
       " 0.1941860549832181,\n",
       " 0.17136859204781235,\n",
       " 0.14972746563574965,\n",
       " 0.1295175956658962,\n",
       " 0.11092083467945973,\n",
       " 0.09404907737689075,\n",
       " 0.07895015830089759,\n",
       " 0.06561581477467965,\n",
       " 0.05399096651319074,\n",
       " 0.04398359598042952,\n",
       " 0.035474592846233444,\n",
       " 0.02832703774160286,\n",
       " 0.02239453029484431,\n",
       " 0.017528300493569706,\n",
       " 0.013582969233686572,\n",
       " 0.010420934814423364,\n",
       " 0.007915451582980581,\n",
       " 0.00595253241977634,\n",
       " 0.004431848411938386,\n",
       " 0.003266819056200212,\n",
       " 0.002384088201465065,\n",
       " 0.001722568939053848,\n",
       " 0.0012322191684731446,\n",
       " 0.0008726826950458523,\n",
       " 0.0006119019301138393,\n",
       " 0.00042478027055080017,\n",
       " 0.00029194692579149475,\n",
       " 0.00019865547139279709,\n",
       " 0.00013383022576490247,\n",
       " 8.926165717714466e-05,\n",
       " 5.894306775654792e-05,\n",
       " 3.853519674209261e-05,\n",
       " 2.4942471290057255e-05,\n",
       " 1.598374110690789e-05,\n",
       " 1.0140852065488327e-05,\n",
       " 6.369825178868133e-06,\n",
       " 3.961299091032737e-06,\n",
       " 2.438960745893777e-06]"
      ]
     },
     "execution_count": 44,
     "metadata": {},
     "output_type": "execute_result"
    }
   ],
   "source": [
    "probs = [stats.norm.pdf(z, loc=0, scale=1) for z in zs]\n",
    "probs"
   ]
  },
  {
   "cell_type": "code",
   "execution_count": 45,
   "metadata": {},
   "outputs": [
    {
     "data": {
      "image/png": "[encoded data removed]",
      "text/plain": [
       "<Figure size 640x480 with 1 Axes>"
      ]
     },
     "metadata": {},
     "output_type": "display_data"
    }
   ],
   "source": [
    "plt.title('Distribuição Normal')\n",
    "sns.lineplot(x=zs, y=probs)\n",
    "sns.scatterplot(x=zs, y=probs, color='red')\n",
    "plt.show()"
   ]
  },
  {
   "cell_type": "markdown",
   "metadata": {},
   "source": [
    "#### Distribuição Qui-Quadrado\n",
    "\n",
    "O teste da distribuição qui-quadrado é um teste estatístico utilizado para verificar se uma determinada amostra de dados segue uma distribuição específica. Ele compara a frequência observada dos dados em diferentes categorias com a frequência esperada, assumindo que os dados seguem a distribuição teórica. O teste calcula uma estatística qui-quadrado, que é comparada com um valor crítico para determinar se há uma diferença significativa entre a distribuição observada e a esperada. Se a estatística qui-quadrado for maior que o valor crítico, rejeita-se a hipótese nula de que os dados seguem a distribuição teórica. Caso contrário, não há evidências suficientes para rejeitar a hipótese nula.\n"
   ]
  },
  {
   "cell_type": "code",
   "execution_count": 46,
   "metadata": {},
   "outputs": [
    {
     "data": {
      "text/plain": [
       "0.5397493503955573"
      ]
     },
     "execution_count": 46,
     "metadata": {},
     "output_type": "execute_result"
    }
   ],
   "source": [
    "# Parameters for the chi-square distribution\n",
    "df = 7 # Graus de liberdade\n",
    "x = 6 # Valor de X\n",
    "\n",
    "1 - stats.chi2.cdf(x, df) # P(X > 6)"
   ]
  },
  {
   "cell_type": "code",
   "execution_count": 47,
   "metadata": {},
   "outputs": [
    {
     "data": {
      "text/plain": [
       "0.6674060974006919"
      ]
     },
     "execution_count": 47,
     "metadata": {},
     "output_type": "execute_result"
    }
   ],
   "source": [
    "x = 8 # Valor de X\n",
    "stats.chi2.cdf(x, df) # P(X < 8)"
   ]
  },
  {
   "cell_type": "code",
   "execution_count": 48,
   "metadata": {},
   "outputs": [
    {
     "data": {
      "text/plain": [
       "14.067140449340167"
      ]
     },
     "execution_count": 48,
     "metadata": {},
     "output_type": "execute_result"
    }
   ],
   "source": [
    "p = 0.05 # Probabilidade > 0.05\n",
    "stats.chi2.ppf(1-p, df) # Valor de X"
   ]
  },
  {
   "cell_type": "code",
   "execution_count": 49,
   "metadata": {},
   "outputs": [
    {
     "data": {
      "text/plain": [
       "12.017036623780532"
      ]
     },
     "execution_count": 49,
     "metadata": {},
     "output_type": "execute_result"
    }
   ],
   "source": [
    "p = 0.90 # Probabilidade < 0.90\n",
    "stats.chi2.ppf(p, df) # Valor de X"
   ]
  },
  {
   "cell_type": "code",
   "execution_count": 50,
   "metadata": {},
   "outputs": [
    {
     "data": {
      "text/plain": [
       "[0.0,\n",
       " 0.0036615940788976894,\n",
       " 0.01613138163460956,\n",
       " 0.03461992263122744,\n",
       " 0.05534766632274598,\n",
       " 0.07530099694507554,\n",
       " 0.0925081978822616,\n",
       " 0.10591892743038007,\n",
       " 0.11518072856146785,\n",
       " 0.1204169178389248,\n",
       " 0.12204152134938738,\n",
       " 0.12061899490769887,\n",
       " 0.11676521599113947,\n",
       " 0.11108236874967568,\n",
       " 0.10411977480817192,\n",
       " 0.09635353622267297,\n",
       " 0.08817913751079275,\n",
       " 0.07991247341496056,\n",
       " 0.07179594427339576,\n",
       " 0.06400722970955498,\n",
       " 0.056669110683469005,\n",
       " 0.04985928249426107,\n",
       " 0.04361951869511298,\n",
       " 0.03796384020340716,\n",
       " 0.032885544001058496,\n",
       " 0.02836307591605092,\n",
       " 0.024364811465178746,\n",
       " 0.02085285268449675,\n",
       " 0.017785968656399264,\n",
       " 0.015121811446552873,\n",
       " 0.012818533423821174,\n",
       " 0.010835920683646251,\n",
       " 0.009136143412216174,\n",
       " 0.007684209407492476,\n",
       " 0.006448192795576982,\n",
       " 0.005399296930288103,\n",
       " 0.004511798883074631,\n",
       " 0.0037629129375096873,\n",
       " 0.0031326020735592533,\n",
       " 0.002603359453790747]"
      ]
     },
     "execution_count": 50,
     "metadata": {},
     "output_type": "execute_result"
    }
   ],
   "source": [
    "xs = np.arange(0, 20, 0.5)\n",
    "probs = [stats.chi2.pdf(x, df) for x in xs]\n",
    "probs"
   ]
  },
  {
   "cell_type": "code",
   "execution_count": 51,
   "metadata": {},
   "outputs": [
    {
     "data": {
      "image/png": "[encoded data removed]",
      "text/plain": [
       "<Figure size 640x480 with 1 Axes>"
      ]
     },
     "metadata": {},
     "output_type": "display_data"
    }
   ],
   "source": [
    "plt.title('Distribuição Qui-Quadrado')\n",
    "sns.lineplot(x=xs, y=probs)\n",
    "sns.scatterplot(x=xs, y=probs, color='red')\n",
    "plt.show()"
   ]
  },
  {
   "cell_type": "markdown",
   "metadata": {},
   "source": [
    "### Distribuição T student\n",
    "\n",
    "A distribuição t, também conhecida como distribuição t de Student, é usada em inferência estatística para fazer testes de hipóteses e construir intervalos de confiança para a média de uma população quando o tamanho da amostra é pequeno e a variância populacional é desconhecida. Ela é mais robusta que a distribuição normal em amostras pequenas, sendo útil quando a normalidade não pode ser assumida."
   ]
  },
  {
   "cell_type": "code",
   "execution_count": 52,
   "metadata": {},
   "outputs": [
    {
     "name": "stdout",
     "output_type": "stream",
     "text": [
      "O valor DIST.T.CD para t = 2.5 e df = 7 é 2.049610929287643\n"
     ]
    }
   ],
   "source": [
    "# P > 2.5\n",
    "t_value = 2.5\n",
    "degrees_of_freedom = 7\n",
    "\n",
    "# Calculando o valor DIST.T.CD\n",
    "p_value = stats.t.sf(t_value, degrees_of_freedom)\n",
    "\n",
    "# Imprimindo o resultado\n",
    "print(f'O valor DIST.T.CD para t = {t_value} e df = {degrees_of_freedom} é {p_value * 100}')"
   ]
  },
  {
   "cell_type": "code",
   "execution_count": 53,
   "metadata": {},
   "outputs": [
    {
     "data": {
      "text/plain": [
       "3.567562436955665"
      ]
     },
     "execution_count": 53,
     "metadata": {},
     "output_type": "execute_result"
    }
   ],
   "source": [
    "# P < -2.5\n",
    "stats.t.pdf(-2.5, degree_freedom) * 100"
   ]
  },
  {
   "cell_type": "code",
   "execution_count": 54,
   "metadata": {},
   "outputs": [
    {
     "data": {
      "text/plain": [
       "17.530833141010373"
      ]
     },
     "execution_count": 54,
     "metadata": {},
     "output_type": "execute_result"
    }
   ],
   "source": [
    "# P -1 \n",
    "stats.t.cdf(-1, 7) * 100"
   ]
  },
  {
   "cell_type": "code",
   "execution_count": 55,
   "metadata": {},
   "outputs": [
    {
     "data": {
      "text/plain": [
       "95.71903357185121"
      ]
     },
     "execution_count": 55,
     "metadata": {},
     "output_type": "execute_result"
    }
   ],
   "source": [
    "#P 2\n",
    "stats.t.cdf(2, 7) * 100"
   ]
  },
  {
   "cell_type": "code",
   "execution_count": 56,
   "metadata": {},
   "outputs": [
    {
     "data": {
      "text/plain": [
       "0.7549912550915627"
      ]
     },
     "execution_count": 56,
     "metadata": {},
     "output_type": "execute_result"
    }
   ],
   "source": [
    "# P(-1T<2)\n",
    "(stats.t.cdf(2, degree_freedom) - stats.t.cdf(-1, degree_freedom))"
   ]
  },
  {
   "cell_type": "code",
   "execution_count": 57,
   "metadata": {},
   "outputs": [
    {
     "data": {
      "text/plain": [
       "2.13184678632665"
      ]
     },
     "execution_count": 57,
     "metadata": {},
     "output_type": "execute_result"
    }
   ],
   "source": [
    "# P = 5%\n",
    "stats.t.isf(0.05, degree_freedom)"
   ]
  },
  {
   "cell_type": "code",
   "execution_count": 58,
   "metadata": {},
   "outputs": [
    {
     "data": {
      "text/plain": [
       "array([-5.00000000e+00, -4.90000000e+00, -4.80000000e+00, -4.70000000e+00,\n",
       "       -4.60000000e+00, -4.50000000e+00, -4.40000000e+00, -4.30000000e+00,\n",
       "       -4.20000000e+00, -4.10000000e+00, -4.00000000e+00, -3.90000000e+00,\n",
       "       -3.80000000e+00, -3.70000000e+00, -3.60000000e+00, -3.50000000e+00,\n",
       "       -3.40000000e+00, -3.30000000e+00, -3.20000000e+00, -3.10000000e+00,\n",
       "       -3.00000000e+00, -2.90000000e+00, -2.80000000e+00, -2.70000000e+00,\n",
       "       -2.60000000e+00, -2.50000000e+00, -2.40000000e+00, -2.30000000e+00,\n",
       "       -2.20000000e+00, -2.10000000e+00, -2.00000000e+00, -1.90000000e+00,\n",
       "       -1.80000000e+00, -1.70000000e+00, -1.60000000e+00, -1.50000000e+00,\n",
       "       -1.40000000e+00, -1.30000000e+00, -1.20000000e+00, -1.10000000e+00,\n",
       "       -1.00000000e+00, -9.00000000e-01, -8.00000000e-01, -7.00000000e-01,\n",
       "       -6.00000000e-01, -5.00000000e-01, -4.00000000e-01, -3.00000000e-01,\n",
       "       -2.00000000e-01, -1.00000000e-01, -1.77635684e-14,  1.00000000e-01,\n",
       "        2.00000000e-01,  3.00000000e-01,  4.00000000e-01,  5.00000000e-01,\n",
       "        6.00000000e-01,  7.00000000e-01,  8.00000000e-01,  9.00000000e-01,\n",
       "        1.00000000e+00,  1.10000000e+00,  1.20000000e+00,  1.30000000e+00,\n",
       "        1.40000000e+00,  1.50000000e+00,  1.60000000e+00,  1.70000000e+00,\n",
       "        1.80000000e+00,  1.90000000e+00,  2.00000000e+00,  2.10000000e+00,\n",
       "        2.20000000e+00,  2.30000000e+00,  2.40000000e+00,  2.50000000e+00,\n",
       "        2.60000000e+00,  2.70000000e+00,  2.80000000e+00,  2.90000000e+00,\n",
       "        3.00000000e+00,  3.10000000e+00,  3.20000000e+00,  3.30000000e+00,\n",
       "        3.40000000e+00,  3.50000000e+00,  3.60000000e+00,  3.70000000e+00,\n",
       "        3.80000000e+00,  3.90000000e+00,  4.00000000e+00,  4.10000000e+00,\n",
       "        4.20000000e+00,  4.30000000e+00,  4.40000000e+00,  4.50000000e+00,\n",
       "        4.60000000e+00,  4.70000000e+00,  4.80000000e+00,  4.90000000e+00])"
      ]
     },
     "execution_count": 58,
     "metadata": {},
     "output_type": "execute_result"
    }
   ],
   "source": [
    "xs = np.arange(-5, 5, 0.1)\n",
    "xs"
   ]
  },
  {
   "cell_type": "code",
   "execution_count": 59,
   "metadata": {},
   "outputs": [
    {
     "data": {
      "text/plain": [
       "[0.0026496362165572204,\n",
       " 0.002890004200519079,\n",
       " 0.0031562000899559087,\n",
       " 0.003451405988416136,\n",
       " 0.0037792415796244192,\n",
       " 0.004143829603691243,\n",
       " 0.004549871695936847,\n",
       " 0.00500273625547623,\n",
       " 0.005508560263465342,\n",
       " 0.006074367252022263,\n",
       " 0.006708203932499346,\n",
       " 0.007419298321105969,\n",
       " 0.008218242541312742,\n",
       " 0.009117203819542808,\n",
       " 0.010130167496884236,\n",
       " 0.011273216114143378,\n",
       " 0.012564848729606035,\n",
       " 0.014026344509659354,\n",
       " 0.015682174165287773,\n",
       " 0.017560461814839515,\n",
       " 0.019693498090836377,\n",
       " 0.02211830244527351,\n",
       " 0.02487722820542586,\n",
       " 0.028018597422759747,\n",
       " 0.03159734322613456,\n",
       " 0.03567562436955626,\n",
       " 0.04032335895494781,\n",
       " 0.0456186008491911,\n",
       " 0.051647652126003585,\n",
       " 0.05850476733409643,\n",
       " 0.06629126073623794,\n",
       " 0.07511377763138313,\n",
       " 0.08508143977371978,\n",
       " 0.09630153093199355,\n",
       " 0.10887336538560828,\n",
       " 0.12287999999999819,\n",
       " 0.13837753713555045,\n",
       " 0.15538195452212428,\n",
       " 0.17385372358466658,\n",
       " 0.19368096389490927,\n",
       " 0.2146625258399768,\n",
       " 0.23649314409302186,\n",
       " 0.2587535367731627,\n",
       " 0.2809088317119477,\n",
       " 0.30231870798579913,\n",
       " 0.3222618685603841,\n",
       " 0.33997573352819177,\n",
       " 0.3547096273461869,\n",
       " 0.3657866349659292,\n",
       " 0.37266646558585176,\n",
       " 0.375,\n",
       " 0.3726664655858534,\n",
       " 0.3657866349659324,\n",
       " 0.35470962734619155,\n",
       " 0.3399757335281976,\n",
       " 0.3222618685603908,\n",
       " 0.3023187079858065,\n",
       " 0.2809088317119555,\n",
       " 0.2587535367731707,\n",
       " 0.23649314409302974,\n",
       " 0.2146625258399844,\n",
       " 0.19368096389491649,\n",
       " 0.1738537235846734,\n",
       " 0.15538195452213058,\n",
       " 0.13837753713555623,\n",
       " 0.12288000000000342,\n",
       " 0.10887336538561303,\n",
       " 0.09630153093199778,\n",
       " 0.08508143977372355,\n",
       " 0.07511377763138646,\n",
       " 0.06629126073624088,\n",
       " 0.05850476733409903,\n",
       " 0.051647652126005854,\n",
       " 0.04561860084919311,\n",
       " 0.04032335895494957,\n",
       " 0.03567562436955781,\n",
       " 0.03159734322613592,\n",
       " 0.028018597422760916,\n",
       " 0.0248772282054269,\n",
       " 0.02211830244527443,\n",
       " 0.019693498090837182,\n",
       " 0.017560461814840216,\n",
       " 0.015682174165288387,\n",
       " 0.014026344509659902,\n",
       " 0.012564848729606526,\n",
       " 0.011273216114143818,\n",
       " 0.010130167496884623,\n",
       " 0.009117203819543148,\n",
       " 0.008218242541313049,\n",
       " 0.007419298321106238,\n",
       " 0.006708203932499585,\n",
       " 0.006074367252022479,\n",
       " 0.005508560263465532,\n",
       " 0.005002736255476399,\n",
       " 0.004549871695936996,\n",
       " 0.004143829603691379,\n",
       " 0.0037792415796245437,\n",
       " 0.0034514059884162463,\n",
       " 0.0031562000899560097,\n",
       " 0.002890004200519169]"
      ]
     },
     "execution_count": 59,
     "metadata": {},
     "output_type": "execute_result"
    }
   ],
   "source": [
    "probs = [stats.t.pdf(x, degree_freedom) for x in xs]\n",
    "probs"
   ]
  },
  {
   "cell_type": "code",
   "execution_count": 60,
   "metadata": {},
   "outputs": [
    {
     "data": {
      "image/png": "[encoded data removed]",
      "text/plain": [
       "<Figure size 640x480 with 1 Axes>"
      ]
     },
     "metadata": {},
     "output_type": "display_data"
    }
   ],
   "source": [
    "plt.title('Distribuição T-studenty')\n",
    "sns.lineplot(x=xs, y=probs)\n",
    "sns.scatterplot(x=xs, y=probs, color='red')\n",
    "plt.show()"
   ]
  },
  {
   "cell_type": "markdown",
   "metadata": {},
   "source": [
    "#### Distribuição F Snedecor\n",
    "\n",
    "A distribuição F é utilizada em estatística para testar a igualdade de variâncias entre dois grupos ou para comparar a variabilidade entre dois ou mais grupos. É comumente aplicada em análises de variância (ANOVA) e em testes de regressão. A distribuição F é uma distribuição contínua e positiva, que é assimétrica e possui duas variáveis de graus de liberdade: um para o numerador e outro para o denominador. É particularmente útil em situações onde é necessário comparar a variabilidade entre grupos, como em estudos experimentais ou observacionais."
   ]
  },
  {
   "cell_type": "code",
   "execution_count": 61,
   "metadata": {},
   "outputs": [],
   "source": [
    "degree_freedom_numerator = 17\n",
    "degree_freedom_denominator = 28"
   ]
  },
  {
   "cell_type": "code",
   "execution_count": 62,
   "metadata": {},
   "outputs": [
    {
     "data": {
      "text/plain": [
       "16.605717926271108"
      ]
     },
     "execution_count": 62,
     "metadata": {},
     "output_type": "execute_result"
    }
   ],
   "source": [
    "# P (X > 1.5)\n",
    "stats.f.sf(1.5, degree_freedom_numerator, degree_freedom_denominator) * 100"
   ]
  },
  {
   "cell_type": "code",
   "execution_count": 63,
   "metadata": {},
   "outputs": [
    {
     "data": {
      "text/plain": [
       "51.42237972801842"
      ]
     },
     "execution_count": 63,
     "metadata": {},
     "output_type": "execute_result"
    }
   ],
   "source": [
    "# P (X<1)\n",
    "stats.f.cdf(1.0, degree_freedom_numerator, degree_freedom_denominator) * 100"
   ]
  },
  {
   "cell_type": "code",
   "execution_count": 64,
   "metadata": {},
   "outputs": [
    {
     "data": {
      "text/plain": [
       "4.549975118639882"
      ]
     },
     "execution_count": 64,
     "metadata": {},
     "output_type": "execute_result"
    }
   ],
   "source": [
    "# P (2 < X < 3)\n",
    "(stats.f.cdf(3.0, degree_freedom_numerator, degree_freedom_denominator) - stats.f.cdf(2.0, degree_freedom_numerator, degree_freedom_denominator)) * 100"
   ]
  },
  {
   "cell_type": "code",
   "execution_count": 65,
   "metadata": {},
   "outputs": [
    {
     "data": {
      "text/plain": [
       "0.015946002000155834"
      ]
     },
     "execution_count": 65,
     "metadata": {},
     "output_type": "execute_result"
    }
   ],
   "source": [
    "# X = P(X > x) = 5%\n",
    "stats.f.pdf(5.0, degree_freedom_numerator, degree_freedom_denominator) * 100"
   ]
  },
  {
   "cell_type": "markdown",
   "metadata": {},
   "source": [
    "#### Testes Z Média\n",
    "\n",
    "### Teste Z para Médias:\n",
    "\n",
    "Um teste Z para médias é uma técnica estatística utilizada para testar a diferença entre as médias de duas amostras independentes, assumindo que as populações subjacentes tenham distribuições normais e que as variâncias populacionais sejam conhecidas.\n",
    "\n",
    "#### Passos do Teste Z para Médias:\n",
    "\n",
    "1. **Formulação das Hipóteses**:\n",
    "   - Hipótese Nula (H0): As médias das duas populações são iguais.\n",
    "   - Hipótese Alternativa (H1): As médias das duas populações são diferentes.\n",
    "\n",
    "2. **Cálculo da Estatística de Teste**:\n",
    "   - A estatística de teste Z é calculada como a diferença entre as médias das amostras dividida pela raiz quadrada da soma das variâncias das amostras, ajustada pelo tamanho das amostras.\n",
    "   - **Fórmula**:\n",
    "     ![Formula](https://latex.codecogs.com/svg.latex?Z%20%3D%20%5Cfrac%7B%5Cbar%7BX%7D_1%20-%20%5Cbar%7BX%7D_2%7D%7B%5Csqrt%7B%5Cfrac%7B%5Csigma_1%5E2%7D%7Bn_1%7D%20&plus;%20%5Cfrac%7B%5Csigma_2%5E2%7D%7Bn_2%7D%7D%7D)\n",
    "   - Onde:\n",
    "   \n",
    "     - \\(\\bar{X}_1\\) e \\(\\bar{X}_2\\) são as médias das amostras.\n",
    "     - \\(\\sigma_1^2\\) e \\(\\sigma_2^2\\) são as variâncias populacionais.\n",
    "     - \\(n_1\\) e \\(n_2\\) são os tamanhos das amostras.\n",
    "     \n",
    "\n",
    "3. **Decisão Estatística**:\n",
    "   - Compara-se o valor da estatística de teste Z calculada com o valor crítico Z obtido a partir da distribuição normal padrão.\n",
    "   - Se o valor absoluto da estatística de teste Z for maior do que o valor crítico Z para um determinado nível de significância (geralmente 0,05 ou 0,01), rejeita-se a hipótese nula em favor da hipótese alternativa.\n",
    "\n",
    "4. **Interpretação dos Resultados**:\n",
    "   - Se a hipótese nula for rejeitada, conclui-se que há evidências estatísticas suficientes para afirmar que as médias das duas populações são diferentes.\n",
    "   - Se a hipótese nula não for rejeitada, não há evidências suficientes para afirmar que as médias das duas populações são diferentes.\n",
    "\n",
    "#### Observações Importantes:\n",
    "- O teste Z para médias é apropriado quando as amostras são grandes (geralmente \\(n \\geq 30\\)) e as variâncias populacionais são conhecidas.\n",
    "- Se as variâncias populacionais forem desconhecidas, é mais apropriado usar o teste t de Student.\n",
    "- É importante verificar se as suposições subjacentes ao teste Z são atendidas antes de interpretar os resultados.\n",
    "\n",
    "O teste Z para médias é uma ferramenta valiosa na análise estatística para comparar médias de duas amostras independentes quando as condições apropriadas são atendidas."
   ]
  },
  {
   "cell_type": "code",
   "execution_count": 115,
   "metadata": {},
   "outputs": [
    {
     "name": "stdout",
     "output_type": "stream",
     "text": [
      "Estatística do teste Z: 2.1503488089144973\n",
      "Valor p: 0.015763817155860158\n",
      "Rejeitamos a hipótese nula. As médias das duas amostras são diferentes.\n"
     ]
    }
   ],
   "source": [
    "# Geração de dados de exemplo para duas amostras\n",
    "np.random.seed(0)\n",
    "X_mean = 100.00\n",
    "std = 12.0\n",
    "\n",
    "x_mean = 104.08\n",
    "\n",
    "statistic_z = (x_mean-X_mean)/(std/np.sqrt(40))\n",
    "p_value = stats.norm.sf(statistic_z)\n",
    "# Exibição dos resultados\n",
    "print(\"Estatística do teste Z:\", statistic_z)\n",
    "print(\"Valor p:\", p_value)\n",
    "\n",
    "# Decisão estatística com nível de significância de 0.05\n",
    "alpha = 0.05\n",
    "if p_value < alpha:\n",
    "    print(\"Rejeitamos a hipótese nula. As médias das duas amostras são diferentes.\")\n",
    "else:\n",
    "    print(\"Não rejeitamos a hipótese nula. Não há evidências suficientes para afirmar que as médias das duas amostras são diferentes.\")\n"
   ]
  },
  {
   "cell_type": "code",
   "execution_count": 116,
   "metadata": {},
   "outputs": [],
   "source": [
    "xs = np.arange(-5, 5, 0.1)\n",
    "probs = [stats.norm.pdf(x) for x in xs]"
   ]
  },
  {
   "cell_type": "code",
   "execution_count": 117,
   "metadata": {},
   "outputs": [
    {
     "data": {
      "text/plain": [
       "1.6448536269514722"
      ]
     },
     "execution_count": 117,
     "metadata": {},
     "output_type": "execute_result"
    }
   ],
   "source": [
    "# Percentil de 95%\n",
    "critical_value = stats.norm.ppf(0.95)\n",
    "critical_value"
   ]
  },
  {
   "cell_type": "code",
   "execution_count": 123,
   "metadata": {},
   "outputs": [
    {
     "data": {
      "image/png": "[encoded data removed]",
      "text/plain": [
       "<Figure size 640x480 with 1 Axes>"
      ]
     },
     "metadata": {},
     "output_type": "display_data"
    }
   ],
   "source": [
    "plt.title('Distribuição Z')\n",
    "sns.lineplot(x=xs, y=probs)\n",
    "sns.scatterplot(x=xs, y=probs, color='red')\n",
    "plt.axvline(critical_value)\n",
    "plt.fill_between(xs, probs, where=(xs > critical_value), color='yellow', alpha=0.3)\n",
    "plt.annotate('Área crítica', xy=(critical_value, 0.05), xytext=(critical_value+0.5, 0.10), arrowprops=dict(facecolor='black', arrowstyle='->'))\n",
    "plt.annotate('Valor crítico', xy=(statistic_z, 0.00), xytext=(statistic_z+0.5, 0.05), arrowprops=dict(facecolor='black', arrowstyle='->'))\n",
    "plt.show()"
   ]
  },
  {
   "cell_type": "markdown",
   "metadata": {},
   "source": [
    "#### Teste T para médias\n",
    "\n",
    "Um teste t para médias é uma técnica estatística utilizada para testar a diferença entre as médias de duas amostras independentes ou para determinar se a média de uma única amostra difere de um valor de referência, quando o desvio padrão populacional é desconhecido. Este teste é uma extensão do teste z quando o tamanho da amostra é pequeno ou a variância populacional é desconhecida.\n",
    "\n",
    "### Passos do Teste t para Médias:\n",
    "\n",
    "1. **Formulação das Hipóteses**:\n",
    "   - Hipótese Nula (\\(H_0\\)): As médias das duas amostras (ou a média da amostra única e a média de referência) são iguais.\n",
    "   - Hipótese Alternativa (\\(H_1\\)): As médias das duas amostras (ou a média da amostra única e a média de referência) são diferentes.\n",
    "\n",
    "2. **Cálculo da Estatística de Teste**:\n",
    "   - A estatística de teste t é calculada como a diferença entre as médias das amostras dividida pelo erro padrão da diferença entre as médias.\n",
    "   - **Fórmula para amostras independentes**:\n",
    "     \\[t = \\frac{(\\bar{X}_1 - \\bar{X}_2)}{\\sqrt{\\frac{{s_1^2}}{{n_1}} + \\frac{{s_2^2}}{{n_2}}}}\\]\n",
    "   - **Fórmula para uma amostra**:\n",
    "     \\[t = \\frac{(\\bar{X} - \\mu_0)}{\\frac{{s}}{{\\sqrt{n}}}}\\]\n",
    "   - Onde:\n",
    "     - \\(\\bar{X}_1\\) e \\(\\bar{X}_2\\) são as médias das amostras.\n",
    "     - \\(s_1\\) e \\(s_2\\) são os desvios padrão das amostras.\n",
    "     - \\(n_1\\) e \\(n_2\\) são os tamanhos das amostras.\n",
    "     - \\(\\bar{X}\\) é a média da amostra única.\n",
    "     - \\(\\mu_0\\) é o valor de referência (para o teste de uma amostra).\n",
    "     - \\(s\\) é o desvio padrão da amostra única.\n",
    "\n",
    "3. **Decisão Estatística**:\n",
    "   - Compara-se o valor da estatística de teste t calculada com o valor crítico t obtido a partir da distribuição t-Student.\n",
    "   - Se o valor absoluto da estatística de teste t for maior do que o valor crítico t para um determinado nível de significância (geralmente 0,05 ou 0,01), rejeita-se a hipótese nula em favor da hipótese alternativa.\n",
    "\n",
    "4. **Interpretação dos Resultados**:\n",
    "   - Se a hipótese nula for rejeitada, conclui-se que há evidências estatísticas suficientes para afirmar que as médias das duas amostras (ou a média da amostra única) diferem significativamente.\n",
    "   - Se a hipótese nula não for rejeitada, não há evidências suficientes para afirmar que as médias das duas amostras (ou a média da amostra única) diferem significativamente.\n",
    "\n",
    "### Observações Importantes:\n",
    "- O teste t para médias é apropriado para amostras pequenas (geralmente \\(n < 30\\)) ou quando o desvio padrão populacional é desconhecido.\n",
    "- Existem diferentes versões do teste t, dependendo das características dos dados, como igualdade ou desigualdade das variâncias entre as amostras (teste t de Student ou teste t de Welch, respectivamente).\n",
    "- A interpretação dos resultados do teste t depende da validade das suposições subjacentes, como a normalidade dos dados e a independência das observações."
   ]
  },
  {
   "cell_type": "code",
   "execution_count": 137,
   "metadata": {},
   "outputs": [],
   "source": [
    "degree_freedom = 24\n",
    "size = 25\n",
    "mean = 16.808\n",
    "std = 2.733\n",
    "\n",
    "X_mean = 18.0"
   ]
  },
  {
   "cell_type": "code",
   "execution_count": 138,
   "metadata": {},
   "outputs": [
    {
     "data": {
      "text/plain": [
       "-2.1807537504573733"
      ]
     },
     "execution_count": 138,
     "metadata": {},
     "output_type": "execute_result"
    }
   ],
   "source": [
    "statistic_t = (mean-X_mean)/(std/np.sqrt(size))\n",
    "statistic_t"
   ]
  },
  {
   "cell_type": "code",
   "execution_count": 139,
   "metadata": {},
   "outputs": [
    {
     "data": {
      "text/plain": [
       "0.019617183706940388"
      ]
     },
     "execution_count": 139,
     "metadata": {},
     "output_type": "execute_result"
    }
   ],
   "source": [
    "p_value = stats.t.cdf(statistic_t, degree_freedom)\n",
    "p_value"
   ]
  },
  {
   "cell_type": "code",
   "execution_count": 150,
   "metadata": {},
   "outputs": [
    {
     "data": {
      "text/plain": [
       "-2.4921594731575762"
      ]
     },
     "execution_count": 150,
     "metadata": {},
     "output_type": "execute_result"
    }
   ],
   "source": [
    "# Valor critico de 1%\n",
    "critical_value = stats.t.ppf(0.01, degree_freedom)\n",
    "critical_value"
   ]
  },
  {
   "cell_type": "code",
   "execution_count": 147,
   "metadata": {},
   "outputs": [],
   "source": [
    "xs = np.arange(-5, 5, 0.1)\n",
    "probs = [stats.t.pdf(x, degree_freedom) for x in xs]"
   ]
  },
  {
   "cell_type": "code",
   "execution_count": 158,
   "metadata": {},
   "outputs": [
    {
     "data": {
      "image/png": "[encoded data removed]",
      "text/plain": [
       "<Figure size 640x480 with 1 Axes>"
      ]
     },
     "metadata": {},
     "output_type": "display_data"
    }
   ],
   "source": [
    "plt.title('Distribuição t')\n",
    "sns.lineplot(x=xs, y=probs)\n",
    "sns.scatterplot(x=xs, y=probs, color='red')\n",
    "plt.axvline(critical_value)\n",
    "plt.fill_between(xs, probs, where=(xs < critical_value), color='yellow', alpha=0.3)\n",
    "plt.annotate('Área crítica', xy=(critical_value, 0.05), xytext=(critical_value-2, 0.10), arrowprops=dict(facecolor='black', arrowstyle='->'))\n",
    "plt.annotate('Valor crítico', xy=(statistic_t, 0.00), xytext=(statistic_t+0.5, 0.05), arrowprops=dict(facecolor='black', arrowstyle='->'))\n",
    "plt.show()"
   ]
  },
  {
   "cell_type": "code",
   "execution_count": null,
   "metadata": {},
   "outputs": [],
   "source": []
  }
 ],
 "metadata": {
  "kernelspec": {
   "display_name": "base",
   "language": "python",
   "name": "python3"
  },
  "language_info": {
   "codemirror_mode": {
    "name": "ipython",
    "version": 3
   },
   "file_extension": ".py",
   "mimetype": "text/x-python",
   "name": "python",
   "nbconvert_exporter": "python",
   "pygments_lexer": "ipython3",
   "version": "3.11.7"
  }
 },
 "nbformat": 4,
 "nbformat_minor": 2
}
